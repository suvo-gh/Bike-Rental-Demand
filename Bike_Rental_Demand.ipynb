{
  "nbformat": 4,
  "nbformat_minor": 0,
  "metadata": {
    "colab": {
      "name": "IMB_Final_Monark.ipynb",
      "provenance": [],
      "collapsed_sections": []
    },
    "kernelspec": {
      "display_name": "Python 3",
      "language": "python",
      "name": "python3"
    },
    "language_info": {
      "codemirror_mode": {
        "name": "ipython",
        "version": 3
      },
      "file_extension": ".py",
      "mimetype": "text/x-python",
      "name": "python",
      "nbconvert_exporter": "python",
      "pygments_lexer": "ipython3",
      "version": "3.7.8"
    },
    "toc": {
      "base_numbering": 1,
      "nav_menu": {},
      "number_sections": true,
      "sideBar": true,
      "skip_h1_title": false,
      "title_cell": "Table of Contents",
      "title_sidebar": "Contents",
      "toc_cell": false,
      "toc_position": {},
      "toc_section_display": true,
      "toc_window_display": false
    }
  },
  "cells": [
    {
      "cell_type": "markdown",
      "metadata": {
        "id": "x_BkOtqBIKQz"
      },
      "source": [
        "# Data Science Challenge"
      ]
    },
    {
      "cell_type": "code",
      "metadata": {
        "id": "U_VthdACIKQ6"
      },
      "source": [
        "# If additional packages are needed that are not installed by default, uncomment the last two lines of this \n",
        "# cell and replace <package list> with a list of additional packages.\n",
        "# This will ensure the notebook has all the dependencies and works everywhere\n",
        "\n",
        "#import sys\n",
        "#!{sys.executable} -m pip install <package list>"
      ],
      "execution_count": 217,
      "outputs": []
    },
    {
      "cell_type": "code",
      "metadata": {
        "id": "VzGFUCCVIKRL"
      },
      "source": [
        "#Libraries\n",
        "import pandas as pd\n",
        "import numpy as np\n",
        "import seaborn as sns\n",
        "import matplotlib.pyplot as plt\n",
        "sns.set(style='white',color_codes=True)\n",
        "pd.set_option(\"display.max_columns\", 101)"
      ],
      "execution_count": 218,
      "outputs": []
    },
    {
      "cell_type": "markdown",
      "metadata": {
        "id": "TZ23KNY8IKRT"
      },
      "source": [
        "## Data Description"
      ]
    },
    {
      "cell_type": "markdown",
      "metadata": {
        "id": "jWSkqquEIKRW"
      },
      "source": [
        "Column | Description\n",
        ":---|:---\n",
        "`id` | Record index\n",
        "`timestamp` | Datetime (YYYY:MM:DD HH AM/PM)\n",
        "`season` | Season (spring, summer, fall, winter)\n",
        "`holiday` | Whether day is a holiday or not (Yes or No)\n",
        "`workingday` | Whether day is a working day or not (Yes or No)\n",
        "`weather`| Weather condition (Clear or partly cloudy, Mist, Light snow or rain, heavy rain/ice pellets/ snow + fog \n",
        "`temp`| Average temperature recorded for the hour ( in degree Celsius)\n",
        "`temp_feel`| Average feeling temperature recorded for the hour ( in degree Celsius)\n",
        "`hum`| Average humidity recorded for the hour (in %)\n",
        "`windspeed`| Average wind speed recorded for the hour (in miles/hour)\n",
        "`demand`| Hourly count of bikes rented"
      ]
    },
    {
      "cell_type": "markdown",
      "metadata": {
        "id": "BWQqx7cSIKRX"
      },
      "source": [
        "## Data Wrangling & Visualization"
      ]
    },
    {
      "cell_type": "code",
      "metadata": {
        "id": "SsjL7tf7IKRc"
      },
      "source": [
        "# The dataset is already loaded below\n",
        "data = pd.read_csv(\"train.csv\")"
      ],
      "execution_count": 219,
      "outputs": []
    },
    {
      "cell_type": "code",
      "metadata": {
        "colab": {
          "base_uri": "https://localhost:8080/",
          "height": 204
        },
        "id": "kzuHtZEkIKRh",
        "outputId": "096fd421-f260-45a3-95ae-079cf1d800c0"
      },
      "source": [
        "data.head()"
      ],
      "execution_count": 220,
      "outputs": [
        {
          "output_type": "execute_result",
          "data": {
            "text/html": [
              "<div>\n",
              "<style scoped>\n",
              "    .dataframe tbody tr th:only-of-type {\n",
              "        vertical-align: middle;\n",
              "    }\n",
              "\n",
              "    .dataframe tbody tr th {\n",
              "        vertical-align: top;\n",
              "    }\n",
              "\n",
              "    .dataframe thead th {\n",
              "        text-align: right;\n",
              "    }\n",
              "</style>\n",
              "<table border=\"1\" class=\"dataframe\">\n",
              "  <thead>\n",
              "    <tr style=\"text-align: right;\">\n",
              "      <th></th>\n",
              "      <th>id</th>\n",
              "      <th>timestamp</th>\n",
              "      <th>season</th>\n",
              "      <th>holiday</th>\n",
              "      <th>workingday</th>\n",
              "      <th>weather</th>\n",
              "      <th>temp</th>\n",
              "      <th>temp_feel</th>\n",
              "      <th>humidity</th>\n",
              "      <th>windspeed</th>\n",
              "      <th>demand</th>\n",
              "    </tr>\n",
              "  </thead>\n",
              "  <tbody>\n",
              "    <tr>\n",
              "      <th>0</th>\n",
              "      <td>1</td>\n",
              "      <td>2017-01-01 00:00:00</td>\n",
              "      <td>spring</td>\n",
              "      <td>No</td>\n",
              "      <td>No</td>\n",
              "      <td>Clear or partly cloudy</td>\n",
              "      <td>9.84</td>\n",
              "      <td>14.395</td>\n",
              "      <td>81.0</td>\n",
              "      <td>0.0</td>\n",
              "      <td>2.772589</td>\n",
              "    </tr>\n",
              "    <tr>\n",
              "      <th>1</th>\n",
              "      <td>2</td>\n",
              "      <td>2017-01-01 01:00:00</td>\n",
              "      <td>spring</td>\n",
              "      <td>No</td>\n",
              "      <td>No</td>\n",
              "      <td>Clear or partly cloudy</td>\n",
              "      <td>9.02</td>\n",
              "      <td>13.635</td>\n",
              "      <td>80.0</td>\n",
              "      <td>0.0</td>\n",
              "      <td>3.688879</td>\n",
              "    </tr>\n",
              "    <tr>\n",
              "      <th>2</th>\n",
              "      <td>3</td>\n",
              "      <td>2017-01-01 02:00:00</td>\n",
              "      <td>spring</td>\n",
              "      <td>No</td>\n",
              "      <td>No</td>\n",
              "      <td>Clear or partly cloudy</td>\n",
              "      <td>9.02</td>\n",
              "      <td>13.635</td>\n",
              "      <td>80.0</td>\n",
              "      <td>0.0</td>\n",
              "      <td>3.465736</td>\n",
              "    </tr>\n",
              "    <tr>\n",
              "      <th>3</th>\n",
              "      <td>4</td>\n",
              "      <td>2017-01-01 03:00:00</td>\n",
              "      <td>spring</td>\n",
              "      <td>No</td>\n",
              "      <td>No</td>\n",
              "      <td>Clear or partly cloudy</td>\n",
              "      <td>9.84</td>\n",
              "      <td>14.395</td>\n",
              "      <td>75.0</td>\n",
              "      <td>0.0</td>\n",
              "      <td>2.564949</td>\n",
              "    </tr>\n",
              "    <tr>\n",
              "      <th>4</th>\n",
              "      <td>5</td>\n",
              "      <td>2017-01-01 04:00:00</td>\n",
              "      <td>spring</td>\n",
              "      <td>No</td>\n",
              "      <td>No</td>\n",
              "      <td>Clear or partly cloudy</td>\n",
              "      <td>9.84</td>\n",
              "      <td>14.395</td>\n",
              "      <td>75.0</td>\n",
              "      <td>0.0</td>\n",
              "      <td>0.000000</td>\n",
              "    </tr>\n",
              "  </tbody>\n",
              "</table>\n",
              "</div>"
            ],
            "text/plain": [
              "   id            timestamp  season holiday workingday                 weather  \\\n",
              "0   1  2017-01-01 00:00:00  spring      No         No  Clear or partly cloudy   \n",
              "1   2  2017-01-01 01:00:00  spring      No         No  Clear or partly cloudy   \n",
              "2   3  2017-01-01 02:00:00  spring      No         No  Clear or partly cloudy   \n",
              "3   4  2017-01-01 03:00:00  spring      No         No  Clear or partly cloudy   \n",
              "4   5  2017-01-01 04:00:00  spring      No         No  Clear or partly cloudy   \n",
              "\n",
              "   temp  temp_feel  humidity  windspeed    demand  \n",
              "0  9.84     14.395      81.0        0.0  2.772589  \n",
              "1  9.02     13.635      80.0        0.0  3.688879  \n",
              "2  9.02     13.635      80.0        0.0  3.465736  \n",
              "3  9.84     14.395      75.0        0.0  2.564949  \n",
              "4  9.84     14.395      75.0        0.0  0.000000  "
            ]
          },
          "metadata": {},
          "execution_count": 220
        }
      ]
    },
    {
      "cell_type": "code",
      "metadata": {
        "colab": {
          "base_uri": "https://localhost:8080/"
        },
        "id": "0mhMZRlBIKRu",
        "outputId": "79446e21-62a8-498d-8dd6-37857e64f0fa"
      },
      "source": [
        "#Explore columns\n",
        "data.columns"
      ],
      "execution_count": 221,
      "outputs": [
        {
          "output_type": "execute_result",
          "data": {
            "text/plain": [
              "Index(['id', 'timestamp', 'season', 'holiday', 'workingday', 'weather', 'temp',\n",
              "       'temp_feel', 'humidity', 'windspeed', 'demand'],\n",
              "      dtype='object')"
            ]
          },
          "metadata": {},
          "execution_count": 221
        }
      ]
    },
    {
      "cell_type": "code",
      "metadata": {
        "colab": {
          "base_uri": "https://localhost:8080/",
          "height": 297
        },
        "id": "-SrTmyfJIKR1",
        "outputId": "c15b36e0-5e21-42e2-e811-2827effd546f"
      },
      "source": [
        "#Description\n",
        "data.describe()"
      ],
      "execution_count": 222,
      "outputs": [
        {
          "output_type": "execute_result",
          "data": {
            "text/html": [
              "<div>\n",
              "<style scoped>\n",
              "    .dataframe tbody tr th:only-of-type {\n",
              "        vertical-align: middle;\n",
              "    }\n",
              "\n",
              "    .dataframe tbody tr th {\n",
              "        vertical-align: top;\n",
              "    }\n",
              "\n",
              "    .dataframe thead th {\n",
              "        text-align: right;\n",
              "    }\n",
              "</style>\n",
              "<table border=\"1\" class=\"dataframe\">\n",
              "  <thead>\n",
              "    <tr style=\"text-align: right;\">\n",
              "      <th></th>\n",
              "      <th>id</th>\n",
              "      <th>temp</th>\n",
              "      <th>temp_feel</th>\n",
              "      <th>humidity</th>\n",
              "      <th>windspeed</th>\n",
              "      <th>demand</th>\n",
              "    </tr>\n",
              "  </thead>\n",
              "  <tbody>\n",
              "    <tr>\n",
              "      <th>count</th>\n",
              "      <td>8708.000000</td>\n",
              "      <td>7506.000000</td>\n",
              "      <td>8606.000000</td>\n",
              "      <td>8669.00000</td>\n",
              "      <td>8508.000000</td>\n",
              "      <td>8708.000000</td>\n",
              "    </tr>\n",
              "    <tr>\n",
              "      <th>mean</th>\n",
              "      <td>4354.500000</td>\n",
              "      <td>20.089454</td>\n",
              "      <td>23.531261</td>\n",
              "      <td>60.99354</td>\n",
              "      <td>13.048589</td>\n",
              "      <td>4.452725</td>\n",
              "    </tr>\n",
              "    <tr>\n",
              "      <th>std</th>\n",
              "      <td>2513.927405</td>\n",
              "      <td>8.023304</td>\n",
              "      <td>8.737997</td>\n",
              "      <td>19.67989</td>\n",
              "      <td>8.311058</td>\n",
              "      <td>1.493963</td>\n",
              "    </tr>\n",
              "    <tr>\n",
              "      <th>min</th>\n",
              "      <td>1.000000</td>\n",
              "      <td>0.820000</td>\n",
              "      <td>0.760000</td>\n",
              "      <td>0.00000</td>\n",
              "      <td>0.000000</td>\n",
              "      <td>0.000000</td>\n",
              "    </tr>\n",
              "    <tr>\n",
              "      <th>25%</th>\n",
              "      <td>2177.750000</td>\n",
              "      <td>13.940000</td>\n",
              "      <td>15.910000</td>\n",
              "      <td>46.00000</td>\n",
              "      <td>7.001500</td>\n",
              "      <td>3.637586</td>\n",
              "    </tr>\n",
              "    <tr>\n",
              "      <th>50%</th>\n",
              "      <td>4354.500000</td>\n",
              "      <td>20.500000</td>\n",
              "      <td>24.240000</td>\n",
              "      <td>60.00000</td>\n",
              "      <td>12.998000</td>\n",
              "      <td>4.867534</td>\n",
              "    </tr>\n",
              "    <tr>\n",
              "      <th>75%</th>\n",
              "      <td>6531.250000</td>\n",
              "      <td>26.240000</td>\n",
              "      <td>31.060000</td>\n",
              "      <td>77.00000</td>\n",
              "      <td>19.001200</td>\n",
              "      <td>5.556828</td>\n",
              "    </tr>\n",
              "    <tr>\n",
              "      <th>max</th>\n",
              "      <td>8708.000000</td>\n",
              "      <td>41.000000</td>\n",
              "      <td>45.455000</td>\n",
              "      <td>100.00000</td>\n",
              "      <td>56.996900</td>\n",
              "      <td>6.792344</td>\n",
              "    </tr>\n",
              "  </tbody>\n",
              "</table>\n",
              "</div>"
            ],
            "text/plain": [
              "                id         temp    temp_feel    humidity    windspeed  \\\n",
              "count  8708.000000  7506.000000  8606.000000  8669.00000  8508.000000   \n",
              "mean   4354.500000    20.089454    23.531261    60.99354    13.048589   \n",
              "std    2513.927405     8.023304     8.737997    19.67989     8.311058   \n",
              "min       1.000000     0.820000     0.760000     0.00000     0.000000   \n",
              "25%    2177.750000    13.940000    15.910000    46.00000     7.001500   \n",
              "50%    4354.500000    20.500000    24.240000    60.00000    12.998000   \n",
              "75%    6531.250000    26.240000    31.060000    77.00000    19.001200   \n",
              "max    8708.000000    41.000000    45.455000   100.00000    56.996900   \n",
              "\n",
              "            demand  \n",
              "count  8708.000000  \n",
              "mean      4.452725  \n",
              "std       1.493963  \n",
              "min       0.000000  \n",
              "25%       3.637586  \n",
              "50%       4.867534  \n",
              "75%       5.556828  \n",
              "max       6.792344  "
            ]
          },
          "metadata": {},
          "execution_count": 222
        }
      ]
    },
    {
      "cell_type": "code",
      "metadata": {
        "colab": {
          "base_uri": "https://localhost:8080/",
          "height": 419
        },
        "id": "Zp2GZ9JrhLRT",
        "outputId": "79884671-6a93-4c1f-e46b-72c80287836c"
      },
      "source": [
        "data"
      ],
      "execution_count": 223,
      "outputs": [
        {
          "output_type": "execute_result",
          "data": {
            "text/html": [
              "<div>\n",
              "<style scoped>\n",
              "    .dataframe tbody tr th:only-of-type {\n",
              "        vertical-align: middle;\n",
              "    }\n",
              "\n",
              "    .dataframe tbody tr th {\n",
              "        vertical-align: top;\n",
              "    }\n",
              "\n",
              "    .dataframe thead th {\n",
              "        text-align: right;\n",
              "    }\n",
              "</style>\n",
              "<table border=\"1\" class=\"dataframe\">\n",
              "  <thead>\n",
              "    <tr style=\"text-align: right;\">\n",
              "      <th></th>\n",
              "      <th>id</th>\n",
              "      <th>timestamp</th>\n",
              "      <th>season</th>\n",
              "      <th>holiday</th>\n",
              "      <th>workingday</th>\n",
              "      <th>weather</th>\n",
              "      <th>temp</th>\n",
              "      <th>temp_feel</th>\n",
              "      <th>humidity</th>\n",
              "      <th>windspeed</th>\n",
              "      <th>demand</th>\n",
              "    </tr>\n",
              "  </thead>\n",
              "  <tbody>\n",
              "    <tr>\n",
              "      <th>0</th>\n",
              "      <td>1</td>\n",
              "      <td>2017-01-01 00:00:00</td>\n",
              "      <td>spring</td>\n",
              "      <td>No</td>\n",
              "      <td>No</td>\n",
              "      <td>Clear or partly cloudy</td>\n",
              "      <td>9.84</td>\n",
              "      <td>14.395</td>\n",
              "      <td>81.0</td>\n",
              "      <td>0.0000</td>\n",
              "      <td>2.772589</td>\n",
              "    </tr>\n",
              "    <tr>\n",
              "      <th>1</th>\n",
              "      <td>2</td>\n",
              "      <td>2017-01-01 01:00:00</td>\n",
              "      <td>spring</td>\n",
              "      <td>No</td>\n",
              "      <td>No</td>\n",
              "      <td>Clear or partly cloudy</td>\n",
              "      <td>9.02</td>\n",
              "      <td>13.635</td>\n",
              "      <td>80.0</td>\n",
              "      <td>0.0000</td>\n",
              "      <td>3.688879</td>\n",
              "    </tr>\n",
              "    <tr>\n",
              "      <th>2</th>\n",
              "      <td>3</td>\n",
              "      <td>2017-01-01 02:00:00</td>\n",
              "      <td>spring</td>\n",
              "      <td>No</td>\n",
              "      <td>No</td>\n",
              "      <td>Clear or partly cloudy</td>\n",
              "      <td>9.02</td>\n",
              "      <td>13.635</td>\n",
              "      <td>80.0</td>\n",
              "      <td>0.0000</td>\n",
              "      <td>3.465736</td>\n",
              "    </tr>\n",
              "    <tr>\n",
              "      <th>3</th>\n",
              "      <td>4</td>\n",
              "      <td>2017-01-01 03:00:00</td>\n",
              "      <td>spring</td>\n",
              "      <td>No</td>\n",
              "      <td>No</td>\n",
              "      <td>Clear or partly cloudy</td>\n",
              "      <td>9.84</td>\n",
              "      <td>14.395</td>\n",
              "      <td>75.0</td>\n",
              "      <td>0.0000</td>\n",
              "      <td>2.564949</td>\n",
              "    </tr>\n",
              "    <tr>\n",
              "      <th>4</th>\n",
              "      <td>5</td>\n",
              "      <td>2017-01-01 04:00:00</td>\n",
              "      <td>spring</td>\n",
              "      <td>No</td>\n",
              "      <td>No</td>\n",
              "      <td>Clear or partly cloudy</td>\n",
              "      <td>9.84</td>\n",
              "      <td>14.395</td>\n",
              "      <td>75.0</td>\n",
              "      <td>0.0000</td>\n",
              "      <td>0.000000</td>\n",
              "    </tr>\n",
              "    <tr>\n",
              "      <th>...</th>\n",
              "      <td>...</td>\n",
              "      <td>...</td>\n",
              "      <td>...</td>\n",
              "      <td>...</td>\n",
              "      <td>...</td>\n",
              "      <td>...</td>\n",
              "      <td>...</td>\n",
              "      <td>...</td>\n",
              "      <td>...</td>\n",
              "      <td>...</td>\n",
              "      <td>...</td>\n",
              "    </tr>\n",
              "    <tr>\n",
              "      <th>8703</th>\n",
              "      <td>8704</td>\n",
              "      <td>2018-08-05 00:00:00</td>\n",
              "      <td>fall</td>\n",
              "      <td>No</td>\n",
              "      <td>No</td>\n",
              "      <td>Clear or partly cloudy</td>\n",
              "      <td>30.34</td>\n",
              "      <td>34.850</td>\n",
              "      <td>70.0</td>\n",
              "      <td>19.0012</td>\n",
              "      <td>5.030438</td>\n",
              "    </tr>\n",
              "    <tr>\n",
              "      <th>8704</th>\n",
              "      <td>8705</td>\n",
              "      <td>2018-08-05 01:00:00</td>\n",
              "      <td>fall</td>\n",
              "      <td>No</td>\n",
              "      <td>No</td>\n",
              "      <td>Clear or partly cloudy</td>\n",
              "      <td>30.34</td>\n",
              "      <td>34.850</td>\n",
              "      <td>70.0</td>\n",
              "      <td>16.9979</td>\n",
              "      <td>4.465908</td>\n",
              "    </tr>\n",
              "    <tr>\n",
              "      <th>8705</th>\n",
              "      <td>8706</td>\n",
              "      <td>2018-08-05 02:00:00</td>\n",
              "      <td>fall</td>\n",
              "      <td>No</td>\n",
              "      <td>No</td>\n",
              "      <td>Clear or partly cloudy</td>\n",
              "      <td>30.34</td>\n",
              "      <td>34.850</td>\n",
              "      <td>70.0</td>\n",
              "      <td>19.9995</td>\n",
              "      <td>4.290459</td>\n",
              "    </tr>\n",
              "    <tr>\n",
              "      <th>8706</th>\n",
              "      <td>8707</td>\n",
              "      <td>2018-08-05 03:00:00</td>\n",
              "      <td>fall</td>\n",
              "      <td>No</td>\n",
              "      <td>No</td>\n",
              "      <td>Clear or partly cloudy</td>\n",
              "      <td>29.52</td>\n",
              "      <td>34.850</td>\n",
              "      <td>74.0</td>\n",
              "      <td>16.9979</td>\n",
              "      <td>3.713572</td>\n",
              "    </tr>\n",
              "    <tr>\n",
              "      <th>8707</th>\n",
              "      <td>8708</td>\n",
              "      <td>2018-08-05 04:00:00</td>\n",
              "      <td>fall</td>\n",
              "      <td>No</td>\n",
              "      <td>No</td>\n",
              "      <td>Clear or partly cloudy</td>\n",
              "      <td>29.52</td>\n",
              "      <td>34.850</td>\n",
              "      <td>74.0</td>\n",
              "      <td>16.9979</td>\n",
              "      <td>2.639057</td>\n",
              "    </tr>\n",
              "  </tbody>\n",
              "</table>\n",
              "<p>8708 rows × 11 columns</p>\n",
              "</div>"
            ],
            "text/plain": [
              "        id            timestamp  season holiday workingday  \\\n",
              "0        1  2017-01-01 00:00:00  spring      No         No   \n",
              "1        2  2017-01-01 01:00:00  spring      No         No   \n",
              "2        3  2017-01-01 02:00:00  spring      No         No   \n",
              "3        4  2017-01-01 03:00:00  spring      No         No   \n",
              "4        5  2017-01-01 04:00:00  spring      No         No   \n",
              "...    ...                  ...     ...     ...        ...   \n",
              "8703  8704  2018-08-05 00:00:00    fall      No         No   \n",
              "8704  8705  2018-08-05 01:00:00    fall      No         No   \n",
              "8705  8706  2018-08-05 02:00:00    fall      No         No   \n",
              "8706  8707  2018-08-05 03:00:00    fall      No         No   \n",
              "8707  8708  2018-08-05 04:00:00    fall      No         No   \n",
              "\n",
              "                     weather   temp  temp_feel  humidity  windspeed    demand  \n",
              "0     Clear or partly cloudy   9.84     14.395      81.0     0.0000  2.772589  \n",
              "1     Clear or partly cloudy   9.02     13.635      80.0     0.0000  3.688879  \n",
              "2     Clear or partly cloudy   9.02     13.635      80.0     0.0000  3.465736  \n",
              "3     Clear or partly cloudy   9.84     14.395      75.0     0.0000  2.564949  \n",
              "4     Clear or partly cloudy   9.84     14.395      75.0     0.0000  0.000000  \n",
              "...                      ...    ...        ...       ...        ...       ...  \n",
              "8703  Clear or partly cloudy  30.34     34.850      70.0    19.0012  5.030438  \n",
              "8704  Clear or partly cloudy  30.34     34.850      70.0    16.9979  4.465908  \n",
              "8705  Clear or partly cloudy  30.34     34.850      70.0    19.9995  4.290459  \n",
              "8706  Clear or partly cloudy  29.52     34.850      74.0    16.9979  3.713572  \n",
              "8707  Clear or partly cloudy  29.52     34.850      74.0    16.9979  2.639057  \n",
              "\n",
              "[8708 rows x 11 columns]"
            ]
          },
          "metadata": {},
          "execution_count": 223
        }
      ]
    },
    {
      "cell_type": "code",
      "metadata": {
        "colab": {
          "base_uri": "https://localhost:8080/"
        },
        "id": "Vel-7S7gIKR9",
        "outputId": "e6f59b5f-100f-422f-f62b-550895d9c073"
      },
      "source": [
        "data.isna().sum()"
      ],
      "execution_count": 224,
      "outputs": [
        {
          "output_type": "execute_result",
          "data": {
            "text/plain": [
              "id               0\n",
              "timestamp        0\n",
              "season           0\n",
              "holiday          0\n",
              "workingday       0\n",
              "weather          0\n",
              "temp          1202\n",
              "temp_feel      102\n",
              "humidity        39\n",
              "windspeed      200\n",
              "demand           0\n",
              "dtype: int64"
            ]
          },
          "metadata": {},
          "execution_count": 224
        }
      ]
    },
    {
      "cell_type": "code",
      "metadata": {
        "colab": {
          "base_uri": "https://localhost:8080/"
        },
        "id": "fp1nvdh-IKSE",
        "outputId": "25f22dd1-b6f6-4be5-82fb-71a635d589e1"
      },
      "source": [
        "data.shape"
      ],
      "execution_count": 225,
      "outputs": [
        {
          "output_type": "execute_result",
          "data": {
            "text/plain": [
              "(8708, 11)"
            ]
          },
          "metadata": {},
          "execution_count": 225
        }
      ]
    },
    {
      "cell_type": "code",
      "metadata": {
        "colab": {
          "base_uri": "https://localhost:8080/"
        },
        "id": "px5KNTQ7IKSK",
        "outputId": "0d1bea48-afb9-4a56-afb9-603dfa737a76"
      },
      "source": [
        "data.temp"
      ],
      "execution_count": 226,
      "outputs": [
        {
          "output_type": "execute_result",
          "data": {
            "text/plain": [
              "0        9.84\n",
              "1        9.02\n",
              "2        9.02\n",
              "3        9.84\n",
              "4        9.84\n",
              "        ...  \n",
              "8703    30.34\n",
              "8704    30.34\n",
              "8705    30.34\n",
              "8706    29.52\n",
              "8707    29.52\n",
              "Name: temp, Length: 8708, dtype: float64"
            ]
          },
          "metadata": {},
          "execution_count": 226
        }
      ]
    },
    {
      "cell_type": "code",
      "metadata": {
        "colab": {
          "base_uri": "https://localhost:8080/"
        },
        "id": "W9B6xKGpIKSQ",
        "outputId": "d61baafb-9b9c-43f8-c629-9698aed9c993"
      },
      "source": [
        "data.temp_feel"
      ],
      "execution_count": 227,
      "outputs": [
        {
          "output_type": "execute_result",
          "data": {
            "text/plain": [
              "0       14.395\n",
              "1       13.635\n",
              "2       13.635\n",
              "3       14.395\n",
              "4       14.395\n",
              "         ...  \n",
              "8703    34.850\n",
              "8704    34.850\n",
              "8705    34.850\n",
              "8706    34.850\n",
              "8707    34.850\n",
              "Name: temp_feel, Length: 8708, dtype: float64"
            ]
          },
          "metadata": {},
          "execution_count": 227
        }
      ]
    },
    {
      "cell_type": "code",
      "metadata": {
        "colab": {
          "base_uri": "https://localhost:8080/"
        },
        "id": "Ybqrfx9WhGLm",
        "outputId": "3e5dc578-6e0e-41c9-e6ca-d4b3bb9fd35e"
      },
      "source": [
        "data.windspeed"
      ],
      "execution_count": 228,
      "outputs": [
        {
          "output_type": "execute_result",
          "data": {
            "text/plain": [
              "0        0.0000\n",
              "1        0.0000\n",
              "2        0.0000\n",
              "3        0.0000\n",
              "4        0.0000\n",
              "         ...   \n",
              "8703    19.0012\n",
              "8704    16.9979\n",
              "8705    19.9995\n",
              "8706    16.9979\n",
              "8707    16.9979\n",
              "Name: windspeed, Length: 8708, dtype: float64"
            ]
          },
          "metadata": {},
          "execution_count": 228
        }
      ]
    },
    {
      "cell_type": "markdown",
      "metadata": {
        "id": "hoptRvhqhRHw"
      },
      "source": [
        "### Remove NA"
      ]
    },
    {
      "cell_type": "code",
      "metadata": {
        "id": "HoqbUTPjhTfD"
      },
      "source": [
        "df_fill_val=data.groupby('season').mean()"
      ],
      "execution_count": 229,
      "outputs": []
    },
    {
      "cell_type": "code",
      "metadata": {
        "colab": {
          "base_uri": "https://localhost:8080/",
          "height": 204
        },
        "id": "IChBlLS9jZ3R",
        "outputId": "e72c9b1c-91e1-4b04-a0bb-7d83c5001cff"
      },
      "source": [
        "df_fill_val"
      ],
      "execution_count": 230,
      "outputs": [
        {
          "output_type": "execute_result",
          "data": {
            "text/html": [
              "<div>\n",
              "<style scoped>\n",
              "    .dataframe tbody tr th:only-of-type {\n",
              "        vertical-align: middle;\n",
              "    }\n",
              "\n",
              "    .dataframe tbody tr th {\n",
              "        vertical-align: top;\n",
              "    }\n",
              "\n",
              "    .dataframe thead th {\n",
              "        text-align: right;\n",
              "    }\n",
              "</style>\n",
              "<table border=\"1\" class=\"dataframe\">\n",
              "  <thead>\n",
              "    <tr style=\"text-align: right;\">\n",
              "      <th></th>\n",
              "      <th>id</th>\n",
              "      <th>temp</th>\n",
              "      <th>temp_feel</th>\n",
              "      <th>humidity</th>\n",
              "      <th>windspeed</th>\n",
              "      <th>demand</th>\n",
              "    </tr>\n",
              "    <tr>\n",
              "      <th>season</th>\n",
              "      <th></th>\n",
              "      <th></th>\n",
              "      <th></th>\n",
              "      <th></th>\n",
              "      <th></th>\n",
              "      <th></th>\n",
              "    </tr>\n",
              "  </thead>\n",
              "  <tbody>\n",
              "    <tr>\n",
              "      <th>fall</th>\n",
              "      <td>4838.530177</td>\n",
              "      <td>29.220612</td>\n",
              "      <td>33.149721</td>\n",
              "      <td>63.467295</td>\n",
              "      <td>11.566576</td>\n",
              "      <td>4.770098</td>\n",
              "    </tr>\n",
              "    <tr>\n",
              "      <th>spring</th>\n",
              "      <td>3423.521221</td>\n",
              "      <td>12.539313</td>\n",
              "      <td>15.208445</td>\n",
              "      <td>56.323364</td>\n",
              "      <td>14.649567</td>\n",
              "      <td>3.984206</td>\n",
              "    </tr>\n",
              "    <tr>\n",
              "      <th>summer</th>\n",
              "      <td>4736.750823</td>\n",
              "      <td>22.875124</td>\n",
              "      <td>26.670486</td>\n",
              "      <td>60.848841</td>\n",
              "      <td>13.401676</td>\n",
              "      <td>4.703267</td>\n",
              "    </tr>\n",
              "    <tr>\n",
              "      <th>winter</th>\n",
              "      <td>4739.000000</td>\n",
              "      <td>16.540872</td>\n",
              "      <td>20.095030</td>\n",
              "      <td>66.975073</td>\n",
              "      <td>11.290219</td>\n",
              "      <td>4.426184</td>\n",
              "    </tr>\n",
              "  </tbody>\n",
              "</table>\n",
              "</div>"
            ],
            "text/plain": [
              "                 id       temp  temp_feel   humidity  windspeed    demand\n",
              "season                                                                   \n",
              "fall    4838.530177  29.220612  33.149721  63.467295  11.566576  4.770098\n",
              "spring  3423.521221  12.539313  15.208445  56.323364  14.649567  3.984206\n",
              "summer  4736.750823  22.875124  26.670486  60.848841  13.401676  4.703267\n",
              "winter  4739.000000  16.540872  20.095030  66.975073  11.290219  4.426184"
            ]
          },
          "metadata": {},
          "execution_count": 230
        }
      ]
    },
    {
      "cell_type": "code",
      "metadata": {
        "colab": {
          "base_uri": "https://localhost:8080/"
        },
        "id": "s6aGNToBkCdU",
        "outputId": "452f438c-ba98-4d75-d57d-d11d71fb4de0"
      },
      "source": [
        "df_fill_val.loc['spring']['temp']"
      ],
      "execution_count": 231,
      "outputs": [
        {
          "output_type": "execute_result",
          "data": {
            "text/plain": [
              "12.53931330472101"
            ]
          },
          "metadata": {},
          "execution_count": 231
        }
      ]
    },
    {
      "cell_type": "code",
      "metadata": {
        "colab": {
          "base_uri": "https://localhost:8080/"
        },
        "id": "t6gy_WoEhkrJ",
        "outputId": "0dbd34cb-b0b7-462f-a28b-90b02af555d5"
      },
      "source": [
        "for i in range(len(data.temp)):\n",
        "  if pd.isna(data.temp[i])==True:\n",
        "    data.temp[i]=df_fill_val.loc[data.season[i]]['temp']\n"
      ],
      "execution_count": 232,
      "outputs": [
        {
          "output_type": "stream",
          "name": "stderr",
          "text": [
            "/usr/local/lib/python3.7/dist-packages/ipykernel_launcher.py:3: SettingWithCopyWarning: \n",
            "A value is trying to be set on a copy of a slice from a DataFrame\n",
            "\n",
            "See the caveats in the documentation: https://pandas.pydata.org/pandas-docs/stable/user_guide/indexing.html#returning-a-view-versus-a-copy\n",
            "  This is separate from the ipykernel package so we can avoid doing imports until\n"
          ]
        }
      ]
    },
    {
      "cell_type": "code",
      "metadata": {
        "colab": {
          "base_uri": "https://localhost:8080/"
        },
        "id": "01nWVj6BkhB7",
        "outputId": "e2e211d9-2e19-4052-e8ff-452fd5aafce4"
      },
      "source": [
        "data.isna().sum()"
      ],
      "execution_count": 233,
      "outputs": [
        {
          "output_type": "execute_result",
          "data": {
            "text/plain": [
              "id              0\n",
              "timestamp       0\n",
              "season          0\n",
              "holiday         0\n",
              "workingday      0\n",
              "weather         0\n",
              "temp            0\n",
              "temp_feel     102\n",
              "humidity       39\n",
              "windspeed     200\n",
              "demand          0\n",
              "dtype: int64"
            ]
          },
          "metadata": {},
          "execution_count": 233
        }
      ]
    },
    {
      "cell_type": "code",
      "metadata": {
        "colab": {
          "base_uri": "https://localhost:8080/"
        },
        "id": "TD0b8Nu8k98G",
        "outputId": "242408c3-e520-4863-e978-a106ac919f40"
      },
      "source": [
        "for i in range(len(data.temp)):\n",
        "  if pd.isna(data.temp_feel[i])==True:\n",
        "    data.temp_feel[i]=df_fill_val.loc[data.season[i]]['temp_feel']"
      ],
      "execution_count": 234,
      "outputs": [
        {
          "output_type": "stream",
          "name": "stderr",
          "text": [
            "/usr/local/lib/python3.7/dist-packages/ipykernel_launcher.py:3: SettingWithCopyWarning: \n",
            "A value is trying to be set on a copy of a slice from a DataFrame\n",
            "\n",
            "See the caveats in the documentation: https://pandas.pydata.org/pandas-docs/stable/user_guide/indexing.html#returning-a-view-versus-a-copy\n",
            "  This is separate from the ipykernel package so we can avoid doing imports until\n"
          ]
        }
      ]
    },
    {
      "cell_type": "code",
      "metadata": {
        "colab": {
          "base_uri": "https://localhost:8080/"
        },
        "id": "2whbNzhtlJE6",
        "outputId": "82ddab2e-fe56-4538-f49d-ae958cbbaa2a"
      },
      "source": [
        "for i in range(len(data.temp)):\n",
        "  if pd.isna(data.humidity[i])==True:\n",
        "    data.humidity[i]=df_fill_val.loc[data.season[i]]['humidity']"
      ],
      "execution_count": 235,
      "outputs": [
        {
          "output_type": "stream",
          "name": "stderr",
          "text": [
            "/usr/local/lib/python3.7/dist-packages/ipykernel_launcher.py:3: SettingWithCopyWarning: \n",
            "A value is trying to be set on a copy of a slice from a DataFrame\n",
            "\n",
            "See the caveats in the documentation: https://pandas.pydata.org/pandas-docs/stable/user_guide/indexing.html#returning-a-view-versus-a-copy\n",
            "  This is separate from the ipykernel package so we can avoid doing imports until\n"
          ]
        }
      ]
    },
    {
      "cell_type": "code",
      "metadata": {
        "colab": {
          "base_uri": "https://localhost:8080/"
        },
        "id": "KfLA--zblRJX",
        "outputId": "b31c4645-8705-4db8-8ac1-cf41296354cc"
      },
      "source": [
        "for i in range(len(data.windspeed)):\n",
        "  if pd.isna(data.windspeed[i])==True:\n",
        "    data.windspeed[i]=df_fill_val.loc[data.season[i]]['windspeed']"
      ],
      "execution_count": 236,
      "outputs": [
        {
          "output_type": "stream",
          "name": "stderr",
          "text": [
            "/usr/local/lib/python3.7/dist-packages/ipykernel_launcher.py:3: SettingWithCopyWarning: \n",
            "A value is trying to be set on a copy of a slice from a DataFrame\n",
            "\n",
            "See the caveats in the documentation: https://pandas.pydata.org/pandas-docs/stable/user_guide/indexing.html#returning-a-view-versus-a-copy\n",
            "  This is separate from the ipykernel package so we can avoid doing imports until\n"
          ]
        }
      ]
    },
    {
      "cell_type": "code",
      "metadata": {
        "colab": {
          "base_uri": "https://localhost:8080/"
        },
        "id": "4o6gnxntledz",
        "outputId": "22d7ddd2-fd6e-448e-8ddf-4fa4098ad081"
      },
      "source": [
        "data.isna().sum()"
      ],
      "execution_count": 237,
      "outputs": [
        {
          "output_type": "execute_result",
          "data": {
            "text/plain": [
              "id            0\n",
              "timestamp     0\n",
              "season        0\n",
              "holiday       0\n",
              "workingday    0\n",
              "weather       0\n",
              "temp          0\n",
              "temp_feel     0\n",
              "humidity      0\n",
              "windspeed     0\n",
              "demand        0\n",
              "dtype: int64"
            ]
          },
          "metadata": {},
          "execution_count": 237
        }
      ]
    },
    {
      "cell_type": "markdown",
      "metadata": {
        "id": "SlbxNpIDmXcT"
      },
      "source": [
        "### Dummies"
      ]
    },
    {
      "cell_type": "code",
      "metadata": {
        "colab": {
          "base_uri": "https://localhost:8080/"
        },
        "id": "MSGD81UemWRs",
        "outputId": "00c2d41d-755f-4d47-9941-6e2a95df621f"
      },
      "source": [
        "from datetime import datetime\n",
        "data.timestamp=pd.to_datetime(data.timestamp )\n",
        "data.info()"
      ],
      "execution_count": 238,
      "outputs": [
        {
          "output_type": "stream",
          "name": "stdout",
          "text": [
            "<class 'pandas.core.frame.DataFrame'>\n",
            "RangeIndex: 8708 entries, 0 to 8707\n",
            "Data columns (total 11 columns):\n",
            " #   Column      Non-Null Count  Dtype         \n",
            "---  ------      --------------  -----         \n",
            " 0   id          8708 non-null   int64         \n",
            " 1   timestamp   8708 non-null   datetime64[ns]\n",
            " 2   season      8708 non-null   object        \n",
            " 3   holiday     8708 non-null   object        \n",
            " 4   workingday  8708 non-null   object        \n",
            " 5   weather     8708 non-null   object        \n",
            " 6   temp        8708 non-null   float64       \n",
            " 7   temp_feel   8708 non-null   float64       \n",
            " 8   humidity    8708 non-null   float64       \n",
            " 9   windspeed   8708 non-null   float64       \n",
            " 10  demand      8708 non-null   float64       \n",
            "dtypes: datetime64[ns](1), float64(5), int64(1), object(4)\n",
            "memory usage: 748.5+ KB\n"
          ]
        }
      ]
    },
    {
      "cell_type": "code",
      "metadata": {
        "colab": {
          "base_uri": "https://localhost:8080/"
        },
        "id": "BlFoTsRnnUk0",
        "outputId": "692bba48-1007-460e-d85d-8bea21a2c163"
      },
      "source": [
        "print(\"Check for categorical values\")\n",
        "\n",
        "df_categoric_features = data.select_dtypes(include = object)\n",
        "df_categoric_features.columns\n"
      ],
      "execution_count": 239,
      "outputs": [
        {
          "output_type": "stream",
          "name": "stdout",
          "text": [
            "Check for categorical values\n"
          ]
        },
        {
          "output_type": "execute_result",
          "data": {
            "text/plain": [
              "Index(['season', 'holiday', 'workingday', 'weather'], dtype='object')"
            ]
          },
          "metadata": {},
          "execution_count": 239
        }
      ]
    },
    {
      "cell_type": "code",
      "metadata": {
        "id": "uUggYV6RpH2Y"
      },
      "source": [
        "dummy_encoded_variables = pd.get_dummies(df_categoric_features, drop_first = False)"
      ],
      "execution_count": 240,
      "outputs": []
    },
    {
      "cell_type": "code",
      "metadata": {
        "colab": {
          "base_uri": "https://localhost:8080/",
          "height": 204
        },
        "id": "HEK4wAAHpTJf",
        "outputId": "40989fc8-8e3c-48fb-fdd9-e4a0166b73e2"
      },
      "source": [
        "df_numeric_features =data.select_dtypes(include=np.number)\n",
        "df_numeric_features.head()"
      ],
      "execution_count": 241,
      "outputs": [
        {
          "output_type": "execute_result",
          "data": {
            "text/html": [
              "<div>\n",
              "<style scoped>\n",
              "    .dataframe tbody tr th:only-of-type {\n",
              "        vertical-align: middle;\n",
              "    }\n",
              "\n",
              "    .dataframe tbody tr th {\n",
              "        vertical-align: top;\n",
              "    }\n",
              "\n",
              "    .dataframe thead th {\n",
              "        text-align: right;\n",
              "    }\n",
              "</style>\n",
              "<table border=\"1\" class=\"dataframe\">\n",
              "  <thead>\n",
              "    <tr style=\"text-align: right;\">\n",
              "      <th></th>\n",
              "      <th>id</th>\n",
              "      <th>temp</th>\n",
              "      <th>temp_feel</th>\n",
              "      <th>humidity</th>\n",
              "      <th>windspeed</th>\n",
              "      <th>demand</th>\n",
              "    </tr>\n",
              "  </thead>\n",
              "  <tbody>\n",
              "    <tr>\n",
              "      <th>0</th>\n",
              "      <td>1</td>\n",
              "      <td>9.84</td>\n",
              "      <td>14.395</td>\n",
              "      <td>81.0</td>\n",
              "      <td>0.0</td>\n",
              "      <td>2.772589</td>\n",
              "    </tr>\n",
              "    <tr>\n",
              "      <th>1</th>\n",
              "      <td>2</td>\n",
              "      <td>9.02</td>\n",
              "      <td>13.635</td>\n",
              "      <td>80.0</td>\n",
              "      <td>0.0</td>\n",
              "      <td>3.688879</td>\n",
              "    </tr>\n",
              "    <tr>\n",
              "      <th>2</th>\n",
              "      <td>3</td>\n",
              "      <td>9.02</td>\n",
              "      <td>13.635</td>\n",
              "      <td>80.0</td>\n",
              "      <td>0.0</td>\n",
              "      <td>3.465736</td>\n",
              "    </tr>\n",
              "    <tr>\n",
              "      <th>3</th>\n",
              "      <td>4</td>\n",
              "      <td>9.84</td>\n",
              "      <td>14.395</td>\n",
              "      <td>75.0</td>\n",
              "      <td>0.0</td>\n",
              "      <td>2.564949</td>\n",
              "    </tr>\n",
              "    <tr>\n",
              "      <th>4</th>\n",
              "      <td>5</td>\n",
              "      <td>9.84</td>\n",
              "      <td>14.395</td>\n",
              "      <td>75.0</td>\n",
              "      <td>0.0</td>\n",
              "      <td>0.000000</td>\n",
              "    </tr>\n",
              "  </tbody>\n",
              "</table>\n",
              "</div>"
            ],
            "text/plain": [
              "   id  temp  temp_feel  humidity  windspeed    demand\n",
              "0   1  9.84     14.395      81.0        0.0  2.772589\n",
              "1   2  9.02     13.635      80.0        0.0  3.688879\n",
              "2   3  9.02     13.635      80.0        0.0  3.465736\n",
              "3   4  9.84     14.395      75.0        0.0  2.564949\n",
              "4   5  9.84     14.395      75.0        0.0  0.000000"
            ]
          },
          "metadata": {},
          "execution_count": 241
        }
      ]
    },
    {
      "cell_type": "code",
      "metadata": {
        "id": "j5HRa3PhpMNg"
      },
      "source": [
        "df2 = pd.concat([df_numeric_features, dummy_encoded_variables], axis=1)"
      ],
      "execution_count": 242,
      "outputs": []
    },
    {
      "cell_type": "code",
      "metadata": {
        "colab": {
          "base_uri": "https://localhost:8080/"
        },
        "id": "f-lJXXt_pc_T",
        "outputId": "b767bfb4-85a2-4272-d2a8-b54c5dc26061"
      },
      "source": [
        "print(df2)"
      ],
      "execution_count": 243,
      "outputs": [
        {
          "output_type": "stream",
          "name": "stdout",
          "text": [
            "        id   temp  temp_feel  humidity  windspeed    demand  season_fall  \\\n",
            "0        1   9.84     14.395      81.0     0.0000  2.772589            0   \n",
            "1        2   9.02     13.635      80.0     0.0000  3.688879            0   \n",
            "2        3   9.02     13.635      80.0     0.0000  3.465736            0   \n",
            "3        4   9.84     14.395      75.0     0.0000  2.564949            0   \n",
            "4        5   9.84     14.395      75.0     0.0000  0.000000            0   \n",
            "...    ...    ...        ...       ...        ...       ...          ...   \n",
            "8703  8704  30.34     34.850      70.0    19.0012  5.030438            1   \n",
            "8704  8705  30.34     34.850      70.0    16.9979  4.465908            1   \n",
            "8705  8706  30.34     34.850      70.0    19.9995  4.290459            1   \n",
            "8706  8707  29.52     34.850      74.0    16.9979  3.713572            1   \n",
            "8707  8708  29.52     34.850      74.0    16.9979  2.639057            1   \n",
            "\n",
            "      season_spring  season_summer  season_winter  holiday_No  holiday_Yes  \\\n",
            "0                 1              0              0           1            0   \n",
            "1                 1              0              0           1            0   \n",
            "2                 1              0              0           1            0   \n",
            "3                 1              0              0           1            0   \n",
            "4                 1              0              0           1            0   \n",
            "...             ...            ...            ...         ...          ...   \n",
            "8703              0              0              0           1            0   \n",
            "8704              0              0              0           1            0   \n",
            "8705              0              0              0           1            0   \n",
            "8706              0              0              0           1            0   \n",
            "8707              0              0              0           1            0   \n",
            "\n",
            "      workingday_No  workingday_Yes  weather_Clear or partly cloudy  \\\n",
            "0                 1               0                               1   \n",
            "1                 1               0                               1   \n",
            "2                 1               0                               1   \n",
            "3                 1               0                               1   \n",
            "4                 1               0                               1   \n",
            "...             ...             ...                             ...   \n",
            "8703              1               0                               1   \n",
            "8704              1               0                               1   \n",
            "8705              1               0                               1   \n",
            "8706              1               0                               1   \n",
            "8707              1               0                               1   \n",
            "\n",
            "      weather_Light snow or rain  weather_Mist  \\\n",
            "0                              0             0   \n",
            "1                              0             0   \n",
            "2                              0             0   \n",
            "3                              0             0   \n",
            "4                              0             0   \n",
            "...                          ...           ...   \n",
            "8703                           0             0   \n",
            "8704                           0             0   \n",
            "8705                           0             0   \n",
            "8706                           0             0   \n",
            "8707                           0             0   \n",
            "\n",
            "      weather_heavy rain/ice pellets/snow + fog  \n",
            "0                                             0  \n",
            "1                                             0  \n",
            "2                                             0  \n",
            "3                                             0  \n",
            "4                                             0  \n",
            "...                                         ...  \n",
            "8703                                          0  \n",
            "8704                                          0  \n",
            "8705                                          0  \n",
            "8706                                          0  \n",
            "8707                                          0  \n",
            "\n",
            "[8708 rows x 18 columns]\n"
          ]
        }
      ]
    },
    {
      "cell_type": "code",
      "metadata": {
        "colab": {
          "base_uri": "https://localhost:8080/"
        },
        "id": "cXsS3VI-pi7F",
        "outputId": "5cf57213-59b3-4de8-9701-19901644613a"
      },
      "source": [
        "print(data)"
      ],
      "execution_count": 244,
      "outputs": [
        {
          "output_type": "stream",
          "name": "stdout",
          "text": [
            "        id           timestamp  season holiday workingday  \\\n",
            "0        1 2017-01-01 00:00:00  spring      No         No   \n",
            "1        2 2017-01-01 01:00:00  spring      No         No   \n",
            "2        3 2017-01-01 02:00:00  spring      No         No   \n",
            "3        4 2017-01-01 03:00:00  spring      No         No   \n",
            "4        5 2017-01-01 04:00:00  spring      No         No   \n",
            "...    ...                 ...     ...     ...        ...   \n",
            "8703  8704 2018-08-05 00:00:00    fall      No         No   \n",
            "8704  8705 2018-08-05 01:00:00    fall      No         No   \n",
            "8705  8706 2018-08-05 02:00:00    fall      No         No   \n",
            "8706  8707 2018-08-05 03:00:00    fall      No         No   \n",
            "8707  8708 2018-08-05 04:00:00    fall      No         No   \n",
            "\n",
            "                     weather   temp  temp_feel  humidity  windspeed    demand  \n",
            "0     Clear or partly cloudy   9.84     14.395      81.0     0.0000  2.772589  \n",
            "1     Clear or partly cloudy   9.02     13.635      80.0     0.0000  3.688879  \n",
            "2     Clear or partly cloudy   9.02     13.635      80.0     0.0000  3.465736  \n",
            "3     Clear or partly cloudy   9.84     14.395      75.0     0.0000  2.564949  \n",
            "4     Clear or partly cloudy   9.84     14.395      75.0     0.0000  0.000000  \n",
            "...                      ...    ...        ...       ...        ...       ...  \n",
            "8703  Clear or partly cloudy  30.34     34.850      70.0    19.0012  5.030438  \n",
            "8704  Clear or partly cloudy  30.34     34.850      70.0    16.9979  4.465908  \n",
            "8705  Clear or partly cloudy  30.34     34.850      70.0    19.9995  4.290459  \n",
            "8706  Clear or partly cloudy  29.52     34.850      74.0    16.9979  3.713572  \n",
            "8707  Clear or partly cloudy  29.52     34.850      74.0    16.9979  2.639057  \n",
            "\n",
            "[8708 rows x 11 columns]\n"
          ]
        }
      ]
    },
    {
      "cell_type": "code",
      "metadata": {
        "id": "8UqzjCwZqu8P"
      },
      "source": [
        "#converting timestamp into data to use\n",
        "df2['Hour'] = pd.to_datetime(data['timestamp']).dt.hour\n",
        "df2['Minute'] = pd.to_datetime(data['timestamp']).dt.minute\n",
        "df2['Seconds']= pd.to_datetime(data['timestamp']).dt.second\n",
        "df2['Day']= pd.to_datetime(data['timestamp']).dt.day\n",
        "df2['Month']= pd.to_datetime(data['timestamp']).dt.month\n",
        "df2['Year']= pd.to_datetime(data['timestamp']).dt.year"
      ],
      "execution_count": 245,
      "outputs": []
    },
    {
      "cell_type": "code",
      "metadata": {
        "colab": {
          "base_uri": "https://localhost:8080/",
          "height": 275
        },
        "id": "oi9SG6ifrpk1",
        "outputId": "2983a95b-b751-429c-b917-daa1edc0833d"
      },
      "source": [
        "df2.head()"
      ],
      "execution_count": 246,
      "outputs": [
        {
          "output_type": "execute_result",
          "data": {
            "text/html": [
              "<div>\n",
              "<style scoped>\n",
              "    .dataframe tbody tr th:only-of-type {\n",
              "        vertical-align: middle;\n",
              "    }\n",
              "\n",
              "    .dataframe tbody tr th {\n",
              "        vertical-align: top;\n",
              "    }\n",
              "\n",
              "    .dataframe thead th {\n",
              "        text-align: right;\n",
              "    }\n",
              "</style>\n",
              "<table border=\"1\" class=\"dataframe\">\n",
              "  <thead>\n",
              "    <tr style=\"text-align: right;\">\n",
              "      <th></th>\n",
              "      <th>id</th>\n",
              "      <th>temp</th>\n",
              "      <th>temp_feel</th>\n",
              "      <th>humidity</th>\n",
              "      <th>windspeed</th>\n",
              "      <th>demand</th>\n",
              "      <th>season_fall</th>\n",
              "      <th>season_spring</th>\n",
              "      <th>season_summer</th>\n",
              "      <th>season_winter</th>\n",
              "      <th>holiday_No</th>\n",
              "      <th>holiday_Yes</th>\n",
              "      <th>workingday_No</th>\n",
              "      <th>workingday_Yes</th>\n",
              "      <th>weather_Clear or partly cloudy</th>\n",
              "      <th>weather_Light snow or rain</th>\n",
              "      <th>weather_Mist</th>\n",
              "      <th>weather_heavy rain/ice pellets/snow + fog</th>\n",
              "      <th>Hour</th>\n",
              "      <th>Minute</th>\n",
              "      <th>Seconds</th>\n",
              "      <th>Day</th>\n",
              "      <th>Month</th>\n",
              "      <th>Year</th>\n",
              "    </tr>\n",
              "  </thead>\n",
              "  <tbody>\n",
              "    <tr>\n",
              "      <th>0</th>\n",
              "      <td>1</td>\n",
              "      <td>9.84</td>\n",
              "      <td>14.395</td>\n",
              "      <td>81.0</td>\n",
              "      <td>0.0</td>\n",
              "      <td>2.772589</td>\n",
              "      <td>0</td>\n",
              "      <td>1</td>\n",
              "      <td>0</td>\n",
              "      <td>0</td>\n",
              "      <td>1</td>\n",
              "      <td>0</td>\n",
              "      <td>1</td>\n",
              "      <td>0</td>\n",
              "      <td>1</td>\n",
              "      <td>0</td>\n",
              "      <td>0</td>\n",
              "      <td>0</td>\n",
              "      <td>0</td>\n",
              "      <td>0</td>\n",
              "      <td>0</td>\n",
              "      <td>1</td>\n",
              "      <td>1</td>\n",
              "      <td>2017</td>\n",
              "    </tr>\n",
              "    <tr>\n",
              "      <th>1</th>\n",
              "      <td>2</td>\n",
              "      <td>9.02</td>\n",
              "      <td>13.635</td>\n",
              "      <td>80.0</td>\n",
              "      <td>0.0</td>\n",
              "      <td>3.688879</td>\n",
              "      <td>0</td>\n",
              "      <td>1</td>\n",
              "      <td>0</td>\n",
              "      <td>0</td>\n",
              "      <td>1</td>\n",
              "      <td>0</td>\n",
              "      <td>1</td>\n",
              "      <td>0</td>\n",
              "      <td>1</td>\n",
              "      <td>0</td>\n",
              "      <td>0</td>\n",
              "      <td>0</td>\n",
              "      <td>1</td>\n",
              "      <td>0</td>\n",
              "      <td>0</td>\n",
              "      <td>1</td>\n",
              "      <td>1</td>\n",
              "      <td>2017</td>\n",
              "    </tr>\n",
              "    <tr>\n",
              "      <th>2</th>\n",
              "      <td>3</td>\n",
              "      <td>9.02</td>\n",
              "      <td>13.635</td>\n",
              "      <td>80.0</td>\n",
              "      <td>0.0</td>\n",
              "      <td>3.465736</td>\n",
              "      <td>0</td>\n",
              "      <td>1</td>\n",
              "      <td>0</td>\n",
              "      <td>0</td>\n",
              "      <td>1</td>\n",
              "      <td>0</td>\n",
              "      <td>1</td>\n",
              "      <td>0</td>\n",
              "      <td>1</td>\n",
              "      <td>0</td>\n",
              "      <td>0</td>\n",
              "      <td>0</td>\n",
              "      <td>2</td>\n",
              "      <td>0</td>\n",
              "      <td>0</td>\n",
              "      <td>1</td>\n",
              "      <td>1</td>\n",
              "      <td>2017</td>\n",
              "    </tr>\n",
              "    <tr>\n",
              "      <th>3</th>\n",
              "      <td>4</td>\n",
              "      <td>9.84</td>\n",
              "      <td>14.395</td>\n",
              "      <td>75.0</td>\n",
              "      <td>0.0</td>\n",
              "      <td>2.564949</td>\n",
              "      <td>0</td>\n",
              "      <td>1</td>\n",
              "      <td>0</td>\n",
              "      <td>0</td>\n",
              "      <td>1</td>\n",
              "      <td>0</td>\n",
              "      <td>1</td>\n",
              "      <td>0</td>\n",
              "      <td>1</td>\n",
              "      <td>0</td>\n",
              "      <td>0</td>\n",
              "      <td>0</td>\n",
              "      <td>3</td>\n",
              "      <td>0</td>\n",
              "      <td>0</td>\n",
              "      <td>1</td>\n",
              "      <td>1</td>\n",
              "      <td>2017</td>\n",
              "    </tr>\n",
              "    <tr>\n",
              "      <th>4</th>\n",
              "      <td>5</td>\n",
              "      <td>9.84</td>\n",
              "      <td>14.395</td>\n",
              "      <td>75.0</td>\n",
              "      <td>0.0</td>\n",
              "      <td>0.000000</td>\n",
              "      <td>0</td>\n",
              "      <td>1</td>\n",
              "      <td>0</td>\n",
              "      <td>0</td>\n",
              "      <td>1</td>\n",
              "      <td>0</td>\n",
              "      <td>1</td>\n",
              "      <td>0</td>\n",
              "      <td>1</td>\n",
              "      <td>0</td>\n",
              "      <td>0</td>\n",
              "      <td>0</td>\n",
              "      <td>4</td>\n",
              "      <td>0</td>\n",
              "      <td>0</td>\n",
              "      <td>1</td>\n",
              "      <td>1</td>\n",
              "      <td>2017</td>\n",
              "    </tr>\n",
              "  </tbody>\n",
              "</table>\n",
              "</div>"
            ],
            "text/plain": [
              "   id  temp  temp_feel  humidity  windspeed    demand  season_fall  \\\n",
              "0   1  9.84     14.395      81.0        0.0  2.772589            0   \n",
              "1   2  9.02     13.635      80.0        0.0  3.688879            0   \n",
              "2   3  9.02     13.635      80.0        0.0  3.465736            0   \n",
              "3   4  9.84     14.395      75.0        0.0  2.564949            0   \n",
              "4   5  9.84     14.395      75.0        0.0  0.000000            0   \n",
              "\n",
              "   season_spring  season_summer  season_winter  holiday_No  holiday_Yes  \\\n",
              "0              1              0              0           1            0   \n",
              "1              1              0              0           1            0   \n",
              "2              1              0              0           1            0   \n",
              "3              1              0              0           1            0   \n",
              "4              1              0              0           1            0   \n",
              "\n",
              "   workingday_No  workingday_Yes  weather_Clear or partly cloudy  \\\n",
              "0              1               0                               1   \n",
              "1              1               0                               1   \n",
              "2              1               0                               1   \n",
              "3              1               0                               1   \n",
              "4              1               0                               1   \n",
              "\n",
              "   weather_Light snow or rain  weather_Mist  \\\n",
              "0                           0             0   \n",
              "1                           0             0   \n",
              "2                           0             0   \n",
              "3                           0             0   \n",
              "4                           0             0   \n",
              "\n",
              "   weather_heavy rain/ice pellets/snow + fog  Hour  Minute  Seconds  Day  \\\n",
              "0                                          0     0       0        0    1   \n",
              "1                                          0     1       0        0    1   \n",
              "2                                          0     2       0        0    1   \n",
              "3                                          0     3       0        0    1   \n",
              "4                                          0     4       0        0    1   \n",
              "\n",
              "   Month  Year  \n",
              "0      1  2017  \n",
              "1      1  2017  \n",
              "2      1  2017  \n",
              "3      1  2017  \n",
              "4      1  2017  "
            ]
          },
          "metadata": {},
          "execution_count": 246
        }
      ]
    },
    {
      "cell_type": "code",
      "metadata": {
        "colab": {
          "base_uri": "https://localhost:8080/"
        },
        "id": "8jBtir6dsaSC",
        "outputId": "1a402401-d189-48b6-94c6-c5b32d287835"
      },
      "source": [
        "df2.columns"
      ],
      "execution_count": 247,
      "outputs": [
        {
          "output_type": "execute_result",
          "data": {
            "text/plain": [
              "Index(['id', 'temp', 'temp_feel', 'humidity', 'windspeed', 'demand',\n",
              "       'season_fall', 'season_spring', 'season_summer', 'season_winter',\n",
              "       'holiday_No', 'holiday_Yes', 'workingday_No', 'workingday_Yes',\n",
              "       'weather_Clear or partly cloudy', 'weather_Light snow or rain',\n",
              "       'weather_Mist', 'weather_heavy rain/ice pellets/snow + fog', 'Hour',\n",
              "       'Minute', 'Seconds', 'Day', 'Month', 'Year'],\n",
              "      dtype='object')"
            ]
          },
          "metadata": {},
          "execution_count": 247
        }
      ]
    },
    {
      "cell_type": "code",
      "metadata": {
        "colab": {
          "base_uri": "https://localhost:8080/"
        },
        "id": "SjJCbagVsuC1",
        "outputId": "5ec72617-4dd3-4da5-b8be-d71a2a142e1b"
      },
      "source": [
        "df2.dtypes"
      ],
      "execution_count": 248,
      "outputs": [
        {
          "output_type": "execute_result",
          "data": {
            "text/plain": [
              "id                                             int64\n",
              "temp                                         float64\n",
              "temp_feel                                    float64\n",
              "humidity                                     float64\n",
              "windspeed                                    float64\n",
              "demand                                       float64\n",
              "season_fall                                    uint8\n",
              "season_spring                                  uint8\n",
              "season_summer                                  uint8\n",
              "season_winter                                  uint8\n",
              "holiday_No                                     uint8\n",
              "holiday_Yes                                    uint8\n",
              "workingday_No                                  uint8\n",
              "workingday_Yes                                 uint8\n",
              "weather_Clear or partly cloudy                 uint8\n",
              "weather_Light snow or rain                     uint8\n",
              "weather_Mist                                   uint8\n",
              "weather_heavy rain/ice pellets/snow + fog      uint8\n",
              "Hour                                           int64\n",
              "Minute                                         int64\n",
              "Seconds                                        int64\n",
              "Day                                            int64\n",
              "Month                                          int64\n",
              "Year                                           int64\n",
              "dtype: object"
            ]
          },
          "metadata": {},
          "execution_count": 248
        }
      ]
    },
    {
      "cell_type": "markdown",
      "metadata": {
        "id": "ymsdDaIPIKSX"
      },
      "source": [
        "## Visualization, Modeling, Machine Learning\n",
        "\n",
        "Build a model that can predict hourly demand and identify how different features influence the decision. Please explain the findings effectively to technical and non-technical audiences using comments and visualizations, if appropriate.\n",
        "- **Build an optimized model that effectively solves the business problem.**\n",
        "- **The model will be evaluated on the basis of mean absolute error.**\n",
        "- **Read the test.csv file and prepare features for testing.**"
      ]
    },
    {
      "cell_type": "code",
      "metadata": {
        "colab": {
          "base_uri": "https://localhost:8080/",
          "height": 204
        },
        "id": "Hsxh3SMgIKSY",
        "outputId": "e7155cf6-be92-436f-f62c-57dc98c05a32"
      },
      "source": [
        "#Loading Test data\n",
        "test=pd.read_csv('test.csv')\n",
        "test.head()"
      ],
      "execution_count": 249,
      "outputs": [
        {
          "output_type": "execute_result",
          "data": {
            "text/html": [
              "<div>\n",
              "<style scoped>\n",
              "    .dataframe tbody tr th:only-of-type {\n",
              "        vertical-align: middle;\n",
              "    }\n",
              "\n",
              "    .dataframe tbody tr th {\n",
              "        vertical-align: top;\n",
              "    }\n",
              "\n",
              "    .dataframe thead th {\n",
              "        text-align: right;\n",
              "    }\n",
              "</style>\n",
              "<table border=\"1\" class=\"dataframe\">\n",
              "  <thead>\n",
              "    <tr style=\"text-align: right;\">\n",
              "      <th></th>\n",
              "      <th>id</th>\n",
              "      <th>timestamp</th>\n",
              "      <th>season</th>\n",
              "      <th>holiday</th>\n",
              "      <th>workingday</th>\n",
              "      <th>weather</th>\n",
              "      <th>temp</th>\n",
              "      <th>temp_feel</th>\n",
              "      <th>humidity</th>\n",
              "      <th>windspeed</th>\n",
              "    </tr>\n",
              "  </thead>\n",
              "  <tbody>\n",
              "    <tr>\n",
              "      <th>0</th>\n",
              "      <td>8709</td>\n",
              "      <td>2018-08-05 05:00:00</td>\n",
              "      <td>fall</td>\n",
              "      <td>No</td>\n",
              "      <td>No</td>\n",
              "      <td>Clear or partly cloudy</td>\n",
              "      <td>29.52</td>\n",
              "      <td>34.850</td>\n",
              "      <td>74.0</td>\n",
              "      <td>16.9979</td>\n",
              "    </tr>\n",
              "    <tr>\n",
              "      <th>1</th>\n",
              "      <td>8710</td>\n",
              "      <td>2018-08-05 06:00:00</td>\n",
              "      <td>fall</td>\n",
              "      <td>No</td>\n",
              "      <td>No</td>\n",
              "      <td>Clear or partly cloudy</td>\n",
              "      <td>29.52</td>\n",
              "      <td>34.850</td>\n",
              "      <td>79.0</td>\n",
              "      <td>16.9979</td>\n",
              "    </tr>\n",
              "    <tr>\n",
              "      <th>2</th>\n",
              "      <td>8712</td>\n",
              "      <td>2018-08-05 08:00:00</td>\n",
              "      <td>fall</td>\n",
              "      <td>No</td>\n",
              "      <td>No</td>\n",
              "      <td>Clear or partly cloudy</td>\n",
              "      <td>31.16</td>\n",
              "      <td>36.365</td>\n",
              "      <td>66.0</td>\n",
              "      <td>22.0028</td>\n",
              "    </tr>\n",
              "    <tr>\n",
              "      <th>3</th>\n",
              "      <td>8713</td>\n",
              "      <td>2018-08-05 09:00:00</td>\n",
              "      <td>fall</td>\n",
              "      <td>No</td>\n",
              "      <td>No</td>\n",
              "      <td>Clear or partly cloudy</td>\n",
              "      <td>32.80</td>\n",
              "      <td>38.635</td>\n",
              "      <td>59.0</td>\n",
              "      <td>23.9994</td>\n",
              "    </tr>\n",
              "    <tr>\n",
              "      <th>4</th>\n",
              "      <td>8714</td>\n",
              "      <td>2018-08-05 10:00:00</td>\n",
              "      <td>fall</td>\n",
              "      <td>No</td>\n",
              "      <td>No</td>\n",
              "      <td>Clear or partly cloudy</td>\n",
              "      <td>32.80</td>\n",
              "      <td>38.635</td>\n",
              "      <td>59.0</td>\n",
              "      <td>27.9993</td>\n",
              "    </tr>\n",
              "  </tbody>\n",
              "</table>\n",
              "</div>"
            ],
            "text/plain": [
              "     id            timestamp season holiday workingday  \\\n",
              "0  8709  2018-08-05 05:00:00   fall      No         No   \n",
              "1  8710  2018-08-05 06:00:00   fall      No         No   \n",
              "2  8712  2018-08-05 08:00:00   fall      No         No   \n",
              "3  8713  2018-08-05 09:00:00   fall      No         No   \n",
              "4  8714  2018-08-05 10:00:00   fall      No         No   \n",
              "\n",
              "                  weather   temp  temp_feel  humidity  windspeed  \n",
              "0  Clear or partly cloudy  29.52     34.850      74.0    16.9979  \n",
              "1  Clear or partly cloudy  29.52     34.850      79.0    16.9979  \n",
              "2  Clear or partly cloudy  31.16     36.365      66.0    22.0028  \n",
              "3  Clear or partly cloudy  32.80     38.635      59.0    23.9994  \n",
              "4  Clear or partly cloudy  32.80     38.635      59.0    27.9993  "
            ]
          },
          "metadata": {},
          "execution_count": 249
        }
      ]
    },
    {
      "cell_type": "code",
      "metadata": {
        "colab": {
          "base_uri": "https://localhost:8080/",
          "height": 1000
        },
        "id": "73vBzp7lIKSf",
        "outputId": "20110ed3-f937-4037-9c9f-19d68164b4f5"
      },
      "source": [
        "print(\"Correlation between variables: \")\n",
        "corr=df2.corr()\n",
        "plt.figure(figsize=(20,20))\n",
        "sns.heatmap(corr,annot=True,cmap='cubehelix_r',square=True)"
      ],
      "execution_count": 250,
      "outputs": [
        {
          "output_type": "stream",
          "name": "stdout",
          "text": [
            "Correlation between variables: \n"
          ]
        },
        {
          "output_type": "execute_result",
          "data": {
            "text/plain": [
              "<matplotlib.axes._subplots.AxesSubplot at 0x7f34f04876d0>"
            ]
          },
          "metadata": {},
          "execution_count": 250
        },
        {
          "output_type": "display_data",
          "data": {
            "image/png": "[encoded data removed]",
            "text/plain": [
              "<Figure size 1440x1440 with 2 Axes>"
            ]
          },
          "metadata": {}
        }
      ]
    },
    {
      "cell_type": "code",
      "metadata": {
        "colab": {
          "base_uri": "https://localhost:8080/",
          "height": 303
        },
        "id": "1XiIoLYLIKSj",
        "outputId": "b8112258-7e12-44f9-db95-2984cd8dea94"
      },
      "source": [
        "sns.barplot(x='season', y='demand', data=data)"
      ],
      "execution_count": 251,
      "outputs": [
        {
          "output_type": "execute_result",
          "data": {
            "text/plain": [
              "<matplotlib.axes._subplots.AxesSubplot at 0x7f34e675be10>"
            ]
          },
          "metadata": {},
          "execution_count": 251
        },
        {
          "output_type": "display_data",
          "data": {
            "image/png": "[encoded data removed]",
            "text/plain": [
              "<Figure size 432x288 with 1 Axes>"
            ]
          },
          "metadata": {}
        }
      ]
    },
    {
      "cell_type": "code",
      "metadata": {
        "colab": {
          "base_uri": "https://localhost:8080/",
          "height": 302
        },
        "id": "7tBCHjd3IKSp",
        "outputId": "bb209bdd-0ced-44fd-96ae-12919b779032"
      },
      "source": [
        "sns.barplot(x='weather', y='demand', data=data)"
      ],
      "execution_count": 252,
      "outputs": [
        {
          "output_type": "execute_result",
          "data": {
            "text/plain": [
              "<matplotlib.axes._subplots.AxesSubplot at 0x7f34e66dfa50>"
            ]
          },
          "metadata": {},
          "execution_count": 252
        },
        {
          "output_type": "display_data",
          "data": {
            "image/png": "[encoded data removed]",
            "text/plain": [
              "<Figure size 432x288 with 1 Axes>"
            ]
          },
          "metadata": {}
        }
      ]
    },
    {
      "cell_type": "code",
      "metadata": {
        "id": "1Vk1EEy9IKSv"
      },
      "source": [
        "X=df2.drop('demand',axis=1)"
      ],
      "execution_count": 253,
      "outputs": []
    },
    {
      "cell_type": "code",
      "metadata": {
        "id": "nkQU41WSIKSz"
      },
      "source": [
        "y=df2.demand"
      ],
      "execution_count": 254,
      "outputs": []
    },
    {
      "cell_type": "code",
      "metadata": {
        "id": "00QuhSxyu-gC"
      },
      "source": [
        "from sklearn.model_selection import train_test_split\n",
        "X_train, X_test, y_train, y_test = train_test_split(X, y, test_size=0.3, random_state = 42)"
      ],
      "execution_count": 255,
      "outputs": []
    },
    {
      "cell_type": "code",
      "metadata": {
        "id": "iyqTefaAvXCA"
      },
      "source": [
        "\n",
        "from sklearn.preprocessing import StandardScaler\n",
        "scl= StandardScaler()\n",
        "X_train_std = scl.fit_transform(X_train)\n",
        "X_test_std = scl.transform(X_test)"
      ],
      "execution_count": 256,
      "outputs": []
    },
    {
      "cell_type": "code",
      "metadata": {
        "id": "qCG5DDmmvgRe"
      },
      "source": [
        "\n",
        "from sklearn.ensemble import RandomForestRegressor\n",
        "forest = RandomForestRegressor(n_estimators = 400, criterion='mse',random_state=1, n_jobs=-1)\n",
        "forest.fit(X_train_std, y_train)\n",
        "y_train_pred = forest.predict(X_train_std)\n",
        "y_test_pred = forest.predict(X_test_std)"
      ],
      "execution_count": 257,
      "outputs": []
    },
    {
      "cell_type": "code",
      "metadata": {
        "colab": {
          "base_uri": "https://localhost:8080/"
        },
        "id": "AtN_VtMJvxaI",
        "outputId": "ea262996-93c2-4b43-f974-42ff96c59102"
      },
      "source": [
        "\n",
        "from sklearn.metrics import mean_squared_error, r2_score\n",
        "#Root_Mean_Square_Log_Error(RMSE) is accuracy criteria for this problem\n",
        "print('RMSLE train: %.3f' % np.sqrt(mean_squared_error(np.log(y_train + 1), np.log(y_train_pred + 1))))\n",
        "print('RMSLE test: %.3f' % np.sqrt(mean_squared_error(np.log(y_test + 1), np.log(y_test_pred + 1))))\n",
        "print('R2 train: %.3f' % r2_score(y_train, y_train_pred))\n",
        "print('R2 test: %.3f' % r2_score(y_test, y_test_pred))\n",
        "from sklearn.metrics import mean_absolute_error\n",
        "print(mean_absolute_error(y_test_pred, y_test))"
      ],
      "execution_count": 258,
      "outputs": [
        {
          "output_type": "stream",
          "name": "stdout",
          "text": [
            "RMSLE train: 0.051\n",
            "RMSLE test: 0.132\n",
            "R2 train: 0.992\n",
            "R2 test: 0.935\n",
            "0.24958850435662414\n"
          ]
        }
      ]
    },
    {
      "cell_type": "markdown",
      "metadata": {
        "id": "MK_rdXETIKS4"
      },
      "source": [
        "\n",
        "\n",
        "**Identify the most important features of the model for management.**\n",
        "\n",
        "> #### Task:\n",
        "- **Visualize the top 20 features and their feature importance.**\n"
      ]
    },
    {
      "cell_type": "code",
      "metadata": {
        "colab": {
          "base_uri": "https://localhost:8080/",
          "height": 659
        },
        "id": "HHFM3XPMIKS6",
        "outputId": "e8136fa9-d388-4ed1-e032-b1b5db0d1067"
      },
      "source": [
        "# get importance\n",
        "importance = forest.feature_importances_\n",
        "# summarize feature importance\n",
        "for i,v in enumerate(importance):\n",
        "\tprint('Feature: %0d, Score: %.5f' % (i,v))\n",
        "# plot feature importance\n",
        "plt.bar([x for x in range(len(importance))], importance)\n",
        "plt.show()"
      ],
      "execution_count": 259,
      "outputs": [
        {
          "output_type": "stream",
          "name": "stdout",
          "text": [
            "Feature: 0, Score: 0.08933\n",
            "Feature: 1, Score: 0.01286\n",
            "Feature: 2, Score: 0.03497\n",
            "Feature: 3, Score: 0.01825\n",
            "Feature: 4, Score: 0.00811\n",
            "Feature: 5, Score: 0.00038\n",
            "Feature: 6, Score: 0.00075\n",
            "Feature: 7, Score: 0.00054\n",
            "Feature: 8, Score: 0.00021\n",
            "Feature: 9, Score: 0.00069\n",
            "Feature: 10, Score: 0.00075\n",
            "Feature: 11, Score: 0.02440\n",
            "Feature: 12, Score: 0.03050\n",
            "Feature: 13, Score: 0.00103\n",
            "Feature: 14, Score: 0.01064\n",
            "Feature: 15, Score: 0.00068\n",
            "Feature: 16, Score: 0.00000\n",
            "Feature: 17, Score: 0.75329\n",
            "Feature: 18, Score: 0.00000\n",
            "Feature: 19, Score: 0.00000\n",
            "Feature: 20, Score: 0.00797\n",
            "Feature: 21, Score: 0.00440\n",
            "Feature: 22, Score: 0.00026\n"
          ]
        },
        {
          "output_type": "display_data",
          "data": {
            "image/png": "[encoded data removed]",
            "text/plain": [
              "<Figure size 432x288 with 1 Axes>"
            ]
          },
          "metadata": {}
        }
      ]
    },
    {
      "cell_type": "code",
      "metadata": {
        "colab": {
          "base_uri": "https://localhost:8080/",
          "height": 204
        },
        "id": "jabG4TJwIKS_",
        "outputId": "a20b09c6-8c40-4929-87f5-bd9bafe65686"
      },
      "source": [
        "test.head()"
      ],
      "execution_count": 260,
      "outputs": [
        {
          "output_type": "execute_result",
          "data": {
            "text/html": [
              "<div>\n",
              "<style scoped>\n",
              "    .dataframe tbody tr th:only-of-type {\n",
              "        vertical-align: middle;\n",
              "    }\n",
              "\n",
              "    .dataframe tbody tr th {\n",
              "        vertical-align: top;\n",
              "    }\n",
              "\n",
              "    .dataframe thead th {\n",
              "        text-align: right;\n",
              "    }\n",
              "</style>\n",
              "<table border=\"1\" class=\"dataframe\">\n",
              "  <thead>\n",
              "    <tr style=\"text-align: right;\">\n",
              "      <th></th>\n",
              "      <th>id</th>\n",
              "      <th>timestamp</th>\n",
              "      <th>season</th>\n",
              "      <th>holiday</th>\n",
              "      <th>workingday</th>\n",
              "      <th>weather</th>\n",
              "      <th>temp</th>\n",
              "      <th>temp_feel</th>\n",
              "      <th>humidity</th>\n",
              "      <th>windspeed</th>\n",
              "    </tr>\n",
              "  </thead>\n",
              "  <tbody>\n",
              "    <tr>\n",
              "      <th>0</th>\n",
              "      <td>8709</td>\n",
              "      <td>2018-08-05 05:00:00</td>\n",
              "      <td>fall</td>\n",
              "      <td>No</td>\n",
              "      <td>No</td>\n",
              "      <td>Clear or partly cloudy</td>\n",
              "      <td>29.52</td>\n",
              "      <td>34.850</td>\n",
              "      <td>74.0</td>\n",
              "      <td>16.9979</td>\n",
              "    </tr>\n",
              "    <tr>\n",
              "      <th>1</th>\n",
              "      <td>8710</td>\n",
              "      <td>2018-08-05 06:00:00</td>\n",
              "      <td>fall</td>\n",
              "      <td>No</td>\n",
              "      <td>No</td>\n",
              "      <td>Clear or partly cloudy</td>\n",
              "      <td>29.52</td>\n",
              "      <td>34.850</td>\n",
              "      <td>79.0</td>\n",
              "      <td>16.9979</td>\n",
              "    </tr>\n",
              "    <tr>\n",
              "      <th>2</th>\n",
              "      <td>8712</td>\n",
              "      <td>2018-08-05 08:00:00</td>\n",
              "      <td>fall</td>\n",
              "      <td>No</td>\n",
              "      <td>No</td>\n",
              "      <td>Clear or partly cloudy</td>\n",
              "      <td>31.16</td>\n",
              "      <td>36.365</td>\n",
              "      <td>66.0</td>\n",
              "      <td>22.0028</td>\n",
              "    </tr>\n",
              "    <tr>\n",
              "      <th>3</th>\n",
              "      <td>8713</td>\n",
              "      <td>2018-08-05 09:00:00</td>\n",
              "      <td>fall</td>\n",
              "      <td>No</td>\n",
              "      <td>No</td>\n",
              "      <td>Clear or partly cloudy</td>\n",
              "      <td>32.80</td>\n",
              "      <td>38.635</td>\n",
              "      <td>59.0</td>\n",
              "      <td>23.9994</td>\n",
              "    </tr>\n",
              "    <tr>\n",
              "      <th>4</th>\n",
              "      <td>8714</td>\n",
              "      <td>2018-08-05 10:00:00</td>\n",
              "      <td>fall</td>\n",
              "      <td>No</td>\n",
              "      <td>No</td>\n",
              "      <td>Clear or partly cloudy</td>\n",
              "      <td>32.80</td>\n",
              "      <td>38.635</td>\n",
              "      <td>59.0</td>\n",
              "      <td>27.9993</td>\n",
              "    </tr>\n",
              "  </tbody>\n",
              "</table>\n",
              "</div>"
            ],
            "text/plain": [
              "     id            timestamp season holiday workingday  \\\n",
              "0  8709  2018-08-05 05:00:00   fall      No         No   \n",
              "1  8710  2018-08-05 06:00:00   fall      No         No   \n",
              "2  8712  2018-08-05 08:00:00   fall      No         No   \n",
              "3  8713  2018-08-05 09:00:00   fall      No         No   \n",
              "4  8714  2018-08-05 10:00:00   fall      No         No   \n",
              "\n",
              "                  weather   temp  temp_feel  humidity  windspeed  \n",
              "0  Clear or partly cloudy  29.52     34.850      74.0    16.9979  \n",
              "1  Clear or partly cloudy  29.52     34.850      79.0    16.9979  \n",
              "2  Clear or partly cloudy  31.16     36.365      66.0    22.0028  \n",
              "3  Clear or partly cloudy  32.80     38.635      59.0    23.9994  \n",
              "4  Clear or partly cloudy  32.80     38.635      59.0    27.9993  "
            ]
          },
          "metadata": {},
          "execution_count": 260
        }
      ]
    },
    {
      "cell_type": "code",
      "metadata": {
        "colab": {
          "base_uri": "https://localhost:8080/"
        },
        "id": "XYAuWZBe33OD",
        "outputId": "7dc7a7c9-603a-4b82-92a6-a724d04f7224"
      },
      "source": [
        "test.isna().sum()"
      ],
      "execution_count": 183,
      "outputs": [
        {
          "output_type": "execute_result",
          "data": {
            "text/plain": [
              "id            0\n",
              "timestamp     0\n",
              "season        0\n",
              "holiday       0\n",
              "workingday    0\n",
              "weather       0\n",
              "temp          0\n",
              "temp_feel     0\n",
              "humidity      0\n",
              "windspeed     0\n",
              "dtype: int64"
            ]
          },
          "metadata": {},
          "execution_count": 183
        }
      ]
    },
    {
      "cell_type": "code",
      "metadata": {
        "colab": {
          "base_uri": "https://localhost:8080/"
        },
        "id": "kATHODas5FVd",
        "outputId": "04dbc5ca-74a1-4954-e31e-e51609128abf"
      },
      "source": [
        "test.timestamp=pd.to_datetime(test.timestamp )\n",
        "test.info()"
      ],
      "execution_count": 261,
      "outputs": [
        {
          "output_type": "stream",
          "name": "stdout",
          "text": [
            "<class 'pandas.core.frame.DataFrame'>\n",
            "RangeIndex: 1792 entries, 0 to 1791\n",
            "Data columns (total 10 columns):\n",
            " #   Column      Non-Null Count  Dtype         \n",
            "---  ------      --------------  -----         \n",
            " 0   id          1792 non-null   int64         \n",
            " 1   timestamp   1792 non-null   datetime64[ns]\n",
            " 2   season      1792 non-null   object        \n",
            " 3   holiday     1792 non-null   object        \n",
            " 4   workingday  1792 non-null   object        \n",
            " 5   weather     1792 non-null   object        \n",
            " 6   temp        1792 non-null   float64       \n",
            " 7   temp_feel   1792 non-null   float64       \n",
            " 8   humidity    1792 non-null   float64       \n",
            " 9   windspeed   1792 non-null   float64       \n",
            "dtypes: datetime64[ns](1), float64(4), int64(1), object(4)\n",
            "memory usage: 140.1+ KB\n"
          ]
        }
      ]
    },
    {
      "cell_type": "code",
      "metadata": {
        "colab": {
          "base_uri": "https://localhost:8080/"
        },
        "id": "-knoRUY44WlE",
        "outputId": "54f1a139-cd14-4334-f9c1-d2b854b84044"
      },
      "source": [
        "print(\"Check for categorical values\")\n",
        "\n",
        "dft_categoric_features = test.select_dtypes(include = object)\n",
        "dft_categoric_features.columns\n"
      ],
      "execution_count": 262,
      "outputs": [
        {
          "output_type": "stream",
          "name": "stdout",
          "text": [
            "Check for categorical values\n"
          ]
        },
        {
          "output_type": "execute_result",
          "data": {
            "text/plain": [
              "Index(['season', 'holiday', 'workingday', 'weather'], dtype='object')"
            ]
          },
          "metadata": {},
          "execution_count": 262
        }
      ]
    },
    {
      "cell_type": "code",
      "metadata": {
        "id": "thR4AJLb4c3l"
      },
      "source": [
        "dummy_encoded_variablest = pd.get_dummies(dft_categoric_features, drop_first = False)"
      ],
      "execution_count": 263,
      "outputs": []
    },
    {
      "cell_type": "code",
      "metadata": {
        "colab": {
          "base_uri": "https://localhost:8080/",
          "height": 204
        },
        "id": "x7xGsHjd4iaK",
        "outputId": "3c0b072c-f091-4c6a-82b0-23261e25e1d5"
      },
      "source": [
        "dft_numeric_features =test.select_dtypes(include=np.number)\n",
        "dft_numeric_features.head()"
      ],
      "execution_count": 264,
      "outputs": [
        {
          "output_type": "execute_result",
          "data": {
            "text/html": [
              "<div>\n",
              "<style scoped>\n",
              "    .dataframe tbody tr th:only-of-type {\n",
              "        vertical-align: middle;\n",
              "    }\n",
              "\n",
              "    .dataframe tbody tr th {\n",
              "        vertical-align: top;\n",
              "    }\n",
              "\n",
              "    .dataframe thead th {\n",
              "        text-align: right;\n",
              "    }\n",
              "</style>\n",
              "<table border=\"1\" class=\"dataframe\">\n",
              "  <thead>\n",
              "    <tr style=\"text-align: right;\">\n",
              "      <th></th>\n",
              "      <th>id</th>\n",
              "      <th>temp</th>\n",
              "      <th>temp_feel</th>\n",
              "      <th>humidity</th>\n",
              "      <th>windspeed</th>\n",
              "    </tr>\n",
              "  </thead>\n",
              "  <tbody>\n",
              "    <tr>\n",
              "      <th>0</th>\n",
              "      <td>8709</td>\n",
              "      <td>29.52</td>\n",
              "      <td>34.850</td>\n",
              "      <td>74.0</td>\n",
              "      <td>16.9979</td>\n",
              "    </tr>\n",
              "    <tr>\n",
              "      <th>1</th>\n",
              "      <td>8710</td>\n",
              "      <td>29.52</td>\n",
              "      <td>34.850</td>\n",
              "      <td>79.0</td>\n",
              "      <td>16.9979</td>\n",
              "    </tr>\n",
              "    <tr>\n",
              "      <th>2</th>\n",
              "      <td>8712</td>\n",
              "      <td>31.16</td>\n",
              "      <td>36.365</td>\n",
              "      <td>66.0</td>\n",
              "      <td>22.0028</td>\n",
              "    </tr>\n",
              "    <tr>\n",
              "      <th>3</th>\n",
              "      <td>8713</td>\n",
              "      <td>32.80</td>\n",
              "      <td>38.635</td>\n",
              "      <td>59.0</td>\n",
              "      <td>23.9994</td>\n",
              "    </tr>\n",
              "    <tr>\n",
              "      <th>4</th>\n",
              "      <td>8714</td>\n",
              "      <td>32.80</td>\n",
              "      <td>38.635</td>\n",
              "      <td>59.0</td>\n",
              "      <td>27.9993</td>\n",
              "    </tr>\n",
              "  </tbody>\n",
              "</table>\n",
              "</div>"
            ],
            "text/plain": [
              "     id   temp  temp_feel  humidity  windspeed\n",
              "0  8709  29.52     34.850      74.0    16.9979\n",
              "1  8710  29.52     34.850      79.0    16.9979\n",
              "2  8712  31.16     36.365      66.0    22.0028\n",
              "3  8713  32.80     38.635      59.0    23.9994\n",
              "4  8714  32.80     38.635      59.0    27.9993"
            ]
          },
          "metadata": {},
          "execution_count": 264
        }
      ]
    },
    {
      "cell_type": "code",
      "metadata": {
        "id": "M4VegV5z4oG-"
      },
      "source": [
        "dft = pd.concat([dft_numeric_features, dummy_encoded_variablest], axis=1)"
      ],
      "execution_count": 265,
      "outputs": []
    },
    {
      "cell_type": "code",
      "metadata": {
        "id": "_iRNWnMG4AdO"
      },
      "source": [
        "dft['Hour'] = pd.to_datetime(test['timestamp']).dt.hour\n",
        "dft['Minute'] = pd.to_datetime(test['timestamp']).dt.minute\n",
        "dft['Seconds']= pd.to_datetime(test['timestamp']).dt.second\n",
        "dft['Day']= pd.to_datetime(test['timestamp']).dt.day\n",
        "dft['Month']= pd.to_datetime(test['timestamp']).dt.month\n",
        "dft['Year']= pd.to_datetime(test['timestamp']).dt.year"
      ],
      "execution_count": 266,
      "outputs": []
    },
    {
      "cell_type": "code",
      "metadata": {
        "colab": {
          "base_uri": "https://localhost:8080/",
          "height": 258
        },
        "id": "O_3INdmk41X1",
        "outputId": "e38ecf19-b7b9-4631-e383-c2f2c8f6344e"
      },
      "source": [
        "dft.head()"
      ],
      "execution_count": 267,
      "outputs": [
        {
          "output_type": "execute_result",
          "data": {
            "text/html": [
              "<div>\n",
              "<style scoped>\n",
              "    .dataframe tbody tr th:only-of-type {\n",
              "        vertical-align: middle;\n",
              "    }\n",
              "\n",
              "    .dataframe tbody tr th {\n",
              "        vertical-align: top;\n",
              "    }\n",
              "\n",
              "    .dataframe thead th {\n",
              "        text-align: right;\n",
              "    }\n",
              "</style>\n",
              "<table border=\"1\" class=\"dataframe\">\n",
              "  <thead>\n",
              "    <tr style=\"text-align: right;\">\n",
              "      <th></th>\n",
              "      <th>id</th>\n",
              "      <th>temp</th>\n",
              "      <th>temp_feel</th>\n",
              "      <th>humidity</th>\n",
              "      <th>windspeed</th>\n",
              "      <th>season_fall</th>\n",
              "      <th>season_winter</th>\n",
              "      <th>holiday_No</th>\n",
              "      <th>holiday_Yes</th>\n",
              "      <th>workingday_No</th>\n",
              "      <th>workingday_Yes</th>\n",
              "      <th>weather_Clear or partly cloudy</th>\n",
              "      <th>weather_Light snow or rain</th>\n",
              "      <th>weather_Mist</th>\n",
              "      <th>Hour</th>\n",
              "      <th>Minute</th>\n",
              "      <th>Seconds</th>\n",
              "      <th>Day</th>\n",
              "      <th>Month</th>\n",
              "      <th>Year</th>\n",
              "    </tr>\n",
              "  </thead>\n",
              "  <tbody>\n",
              "    <tr>\n",
              "      <th>0</th>\n",
              "      <td>8709</td>\n",
              "      <td>29.52</td>\n",
              "      <td>34.850</td>\n",
              "      <td>74.0</td>\n",
              "      <td>16.9979</td>\n",
              "      <td>1</td>\n",
              "      <td>0</td>\n",
              "      <td>1</td>\n",
              "      <td>0</td>\n",
              "      <td>1</td>\n",
              "      <td>0</td>\n",
              "      <td>1</td>\n",
              "      <td>0</td>\n",
              "      <td>0</td>\n",
              "      <td>5</td>\n",
              "      <td>0</td>\n",
              "      <td>0</td>\n",
              "      <td>5</td>\n",
              "      <td>8</td>\n",
              "      <td>2018</td>\n",
              "    </tr>\n",
              "    <tr>\n",
              "      <th>1</th>\n",
              "      <td>8710</td>\n",
              "      <td>29.52</td>\n",
              "      <td>34.850</td>\n",
              "      <td>79.0</td>\n",
              "      <td>16.9979</td>\n",
              "      <td>1</td>\n",
              "      <td>0</td>\n",
              "      <td>1</td>\n",
              "      <td>0</td>\n",
              "      <td>1</td>\n",
              "      <td>0</td>\n",
              "      <td>1</td>\n",
              "      <td>0</td>\n",
              "      <td>0</td>\n",
              "      <td>6</td>\n",
              "      <td>0</td>\n",
              "      <td>0</td>\n",
              "      <td>5</td>\n",
              "      <td>8</td>\n",
              "      <td>2018</td>\n",
              "    </tr>\n",
              "    <tr>\n",
              "      <th>2</th>\n",
              "      <td>8712</td>\n",
              "      <td>31.16</td>\n",
              "      <td>36.365</td>\n",
              "      <td>66.0</td>\n",
              "      <td>22.0028</td>\n",
              "      <td>1</td>\n",
              "      <td>0</td>\n",
              "      <td>1</td>\n",
              "      <td>0</td>\n",
              "      <td>1</td>\n",
              "      <td>0</td>\n",
              "      <td>1</td>\n",
              "      <td>0</td>\n",
              "      <td>0</td>\n",
              "      <td>8</td>\n",
              "      <td>0</td>\n",
              "      <td>0</td>\n",
              "      <td>5</td>\n",
              "      <td>8</td>\n",
              "      <td>2018</td>\n",
              "    </tr>\n",
              "    <tr>\n",
              "      <th>3</th>\n",
              "      <td>8713</td>\n",
              "      <td>32.80</td>\n",
              "      <td>38.635</td>\n",
              "      <td>59.0</td>\n",
              "      <td>23.9994</td>\n",
              "      <td>1</td>\n",
              "      <td>0</td>\n",
              "      <td>1</td>\n",
              "      <td>0</td>\n",
              "      <td>1</td>\n",
              "      <td>0</td>\n",
              "      <td>1</td>\n",
              "      <td>0</td>\n",
              "      <td>0</td>\n",
              "      <td>9</td>\n",
              "      <td>0</td>\n",
              "      <td>0</td>\n",
              "      <td>5</td>\n",
              "      <td>8</td>\n",
              "      <td>2018</td>\n",
              "    </tr>\n",
              "    <tr>\n",
              "      <th>4</th>\n",
              "      <td>8714</td>\n",
              "      <td>32.80</td>\n",
              "      <td>38.635</td>\n",
              "      <td>59.0</td>\n",
              "      <td>27.9993</td>\n",
              "      <td>1</td>\n",
              "      <td>0</td>\n",
              "      <td>1</td>\n",
              "      <td>0</td>\n",
              "      <td>1</td>\n",
              "      <td>0</td>\n",
              "      <td>1</td>\n",
              "      <td>0</td>\n",
              "      <td>0</td>\n",
              "      <td>10</td>\n",
              "      <td>0</td>\n",
              "      <td>0</td>\n",
              "      <td>5</td>\n",
              "      <td>8</td>\n",
              "      <td>2018</td>\n",
              "    </tr>\n",
              "  </tbody>\n",
              "</table>\n",
              "</div>"
            ],
            "text/plain": [
              "     id   temp  temp_feel  humidity  windspeed  season_fall  season_winter  \\\n",
              "0  8709  29.52     34.850      74.0    16.9979            1              0   \n",
              "1  8710  29.52     34.850      79.0    16.9979            1              0   \n",
              "2  8712  31.16     36.365      66.0    22.0028            1              0   \n",
              "3  8713  32.80     38.635      59.0    23.9994            1              0   \n",
              "4  8714  32.80     38.635      59.0    27.9993            1              0   \n",
              "\n",
              "   holiday_No  holiday_Yes  workingday_No  workingday_Yes  \\\n",
              "0           1            0              1               0   \n",
              "1           1            0              1               0   \n",
              "2           1            0              1               0   \n",
              "3           1            0              1               0   \n",
              "4           1            0              1               0   \n",
              "\n",
              "   weather_Clear or partly cloudy  weather_Light snow or rain  weather_Mist  \\\n",
              "0                               1                           0             0   \n",
              "1                               1                           0             0   \n",
              "2                               1                           0             0   \n",
              "3                               1                           0             0   \n",
              "4                               1                           0             0   \n",
              "\n",
              "   Hour  Minute  Seconds  Day  Month  Year  \n",
              "0     5       0        0    5      8  2018  \n",
              "1     6       0        0    5      8  2018  \n",
              "2     8       0        0    5      8  2018  \n",
              "3     9       0        0    5      8  2018  \n",
              "4    10       0        0    5      8  2018  "
            ]
          },
          "metadata": {},
          "execution_count": 267
        }
      ]
    },
    {
      "cell_type": "code",
      "metadata": {
        "colab": {
          "base_uri": "https://localhost:8080/"
        },
        "id": "mrB5EX2j5fvg",
        "outputId": "73b664ef-8b83-4045-dbb7-9a7c33e2eb0b"
      },
      "source": [
        "X.columns"
      ],
      "execution_count": 268,
      "outputs": [
        {
          "output_type": "execute_result",
          "data": {
            "text/plain": [
              "Index(['id', 'temp', 'temp_feel', 'humidity', 'windspeed', 'season_fall',\n",
              "       'season_spring', 'season_summer', 'season_winter', 'holiday_No',\n",
              "       'holiday_Yes', 'workingday_No', 'workingday_Yes',\n",
              "       'weather_Clear or partly cloudy', 'weather_Light snow or rain',\n",
              "       'weather_Mist', 'weather_heavy rain/ice pellets/snow + fog', 'Hour',\n",
              "       'Minute', 'Seconds', 'Day', 'Month', 'Year'],\n",
              "      dtype='object')"
            ]
          },
          "metadata": {},
          "execution_count": 268
        }
      ]
    },
    {
      "cell_type": "code",
      "metadata": {
        "id": "5S-xp8gd7mhm"
      },
      "source": [
        "col_list = list(set().union(X.columns, dft.columns))\n",
        "col_list.sort()"
      ],
      "execution_count": 269,
      "outputs": []
    },
    {
      "cell_type": "code",
      "metadata": {
        "id": "oigZAd3c9PCQ"
      },
      "source": [
        "dft2= dft.reindex(columns=col_list, fill_value=0)"
      ],
      "execution_count": 270,
      "outputs": []
    },
    {
      "cell_type": "code",
      "metadata": {
        "id": "su7aNRU8C2Mf"
      },
      "source": [
        "dft2 = scl.transform(dft2)"
      ],
      "execution_count": 271,
      "outputs": []
    },
    {
      "cell_type": "markdown",
      "metadata": {
        "id": "UFogmgYZIKTE"
      },
      "source": [
        "> #### Task:\n",
        "- **Submit the predictions on the test dataset using the optimized model** <br/>\n",
        "    For each record in the test set (`test.csv`), predict the value of the `demand` variable. Submit a CSV file with a header row and one row per test entry.\n",
        "    \n",
        "The file (`submissions.csv`) should have exactly 2 columns:\n",
        "   - **id**\n",
        "   - **demand**"
      ]
    },
    {
      "cell_type": "code",
      "metadata": {
        "id": "7xgNg25MIKTG"
      },
      "source": [
        "id= test.id\n",
        "demand = pd.Series(forest.predict(dft2),name='demand')"
      ],
      "execution_count": 272,
      "outputs": []
    },
    {
      "cell_type": "code",
      "metadata": {
        "id": "OaxN7BjwIKTL"
      },
      "source": [
        "submission_df = pd.concat([id, demand], axis=1)"
      ],
      "execution_count": 273,
      "outputs": []
    },
    {
      "cell_type": "code",
      "metadata": {
        "colab": {
          "base_uri": "https://localhost:8080/",
          "height": 669
        },
        "id": "dKsiyFt9-BSK",
        "outputId": "9ede2166-bf14-46e8-cd85-d13340f75fa1"
      },
      "source": [
        "submission_df.head(20)"
      ],
      "execution_count": 274,
      "outputs": [
        {
          "output_type": "execute_result",
          "data": {
            "text/html": [
              "<div>\n",
              "<style scoped>\n",
              "    .dataframe tbody tr th:only-of-type {\n",
              "        vertical-align: middle;\n",
              "    }\n",
              "\n",
              "    .dataframe tbody tr th {\n",
              "        vertical-align: top;\n",
              "    }\n",
              "\n",
              "    .dataframe thead th {\n",
              "        text-align: right;\n",
              "    }\n",
              "</style>\n",
              "<table border=\"1\" class=\"dataframe\">\n",
              "  <thead>\n",
              "    <tr style=\"text-align: right;\">\n",
              "      <th></th>\n",
              "      <th>id</th>\n",
              "      <th>demand</th>\n",
              "    </tr>\n",
              "  </thead>\n",
              "  <tbody>\n",
              "    <tr>\n",
              "      <th>0</th>\n",
              "      <td>8709</td>\n",
              "      <td>2.806740</td>\n",
              "    </tr>\n",
              "    <tr>\n",
              "      <th>1</th>\n",
              "      <td>8710</td>\n",
              "      <td>2.830804</td>\n",
              "    </tr>\n",
              "    <tr>\n",
              "      <th>2</th>\n",
              "      <td>8712</td>\n",
              "      <td>2.833073</td>\n",
              "    </tr>\n",
              "    <tr>\n",
              "      <th>3</th>\n",
              "      <td>8713</td>\n",
              "      <td>2.858054</td>\n",
              "    </tr>\n",
              "    <tr>\n",
              "      <th>4</th>\n",
              "      <td>8714</td>\n",
              "      <td>2.857234</td>\n",
              "    </tr>\n",
              "    <tr>\n",
              "      <th>5</th>\n",
              "      <td>8715</td>\n",
              "      <td>2.865429</td>\n",
              "    </tr>\n",
              "    <tr>\n",
              "      <th>6</th>\n",
              "      <td>8716</td>\n",
              "      <td>2.873224</td>\n",
              "    </tr>\n",
              "    <tr>\n",
              "      <th>7</th>\n",
              "      <td>8717</td>\n",
              "      <td>2.874399</td>\n",
              "    </tr>\n",
              "    <tr>\n",
              "      <th>8</th>\n",
              "      <td>8718</td>\n",
              "      <td>2.875700</td>\n",
              "    </tr>\n",
              "    <tr>\n",
              "      <th>9</th>\n",
              "      <td>8719</td>\n",
              "      <td>2.881215</td>\n",
              "    </tr>\n",
              "    <tr>\n",
              "      <th>10</th>\n",
              "      <td>8720</td>\n",
              "      <td>2.861231</td>\n",
              "    </tr>\n",
              "    <tr>\n",
              "      <th>11</th>\n",
              "      <td>8722</td>\n",
              "      <td>2.809614</td>\n",
              "    </tr>\n",
              "    <tr>\n",
              "      <th>12</th>\n",
              "      <td>8724</td>\n",
              "      <td>2.844009</td>\n",
              "    </tr>\n",
              "    <tr>\n",
              "      <th>13</th>\n",
              "      <td>8725</td>\n",
              "      <td>2.844009</td>\n",
              "    </tr>\n",
              "    <tr>\n",
              "      <th>14</th>\n",
              "      <td>8726</td>\n",
              "      <td>2.840307</td>\n",
              "    </tr>\n",
              "    <tr>\n",
              "      <th>15</th>\n",
              "      <td>8727</td>\n",
              "      <td>2.845652</td>\n",
              "    </tr>\n",
              "    <tr>\n",
              "      <th>16</th>\n",
              "      <td>8728</td>\n",
              "      <td>2.781488</td>\n",
              "    </tr>\n",
              "    <tr>\n",
              "      <th>17</th>\n",
              "      <td>8729</td>\n",
              "      <td>2.760430</td>\n",
              "    </tr>\n",
              "    <tr>\n",
              "      <th>18</th>\n",
              "      <td>8730</td>\n",
              "      <td>2.763569</td>\n",
              "    </tr>\n",
              "    <tr>\n",
              "      <th>19</th>\n",
              "      <td>8732</td>\n",
              "      <td>2.763569</td>\n",
              "    </tr>\n",
              "  </tbody>\n",
              "</table>\n",
              "</div>"
            ],
            "text/plain": [
              "      id    demand\n",
              "0   8709  2.806740\n",
              "1   8710  2.830804\n",
              "2   8712  2.833073\n",
              "3   8713  2.858054\n",
              "4   8714  2.857234\n",
              "5   8715  2.865429\n",
              "6   8716  2.873224\n",
              "7   8717  2.874399\n",
              "8   8718  2.875700\n",
              "9   8719  2.881215\n",
              "10  8720  2.861231\n",
              "11  8722  2.809614\n",
              "12  8724  2.844009\n",
              "13  8725  2.844009\n",
              "14  8726  2.840307\n",
              "15  8727  2.845652\n",
              "16  8728  2.781488\n",
              "17  8729  2.760430\n",
              "18  8730  2.763569\n",
              "19  8732  2.763569"
            ]
          },
          "metadata": {},
          "execution_count": 274
        }
      ]
    },
    {
      "cell_type": "code",
      "metadata": {
        "id": "nBRVPrYbIKTQ"
      },
      "source": [
        "#Submission\n",
        "submission_df.to_csv('submissions.csv',index=False)"
      ],
      "execution_count": 275,
      "outputs": []
    },
    {
      "cell_type": "markdown",
      "metadata": {
        "id": "H_pB8zTcIKTW"
      },
      "source": [
        "---"
      ]
    }
  ]
}